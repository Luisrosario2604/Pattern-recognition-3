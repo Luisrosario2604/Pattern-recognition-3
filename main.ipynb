{
  "nbformat": 4,
  "nbformat_minor": 0,
  "metadata": {
    "colab": {
      "name": "main.ipynb",
      "provenance": [],
      "collapsed_sections": [
        "O7klDkaZwI0M"
      ]
    },
    "kernelspec": {
      "display_name": "Python 3",
      "name": "python3"
    },
    "language_info": {
      "name": "python"
    }
  },
  "cells": [
    {
      "cell_type": "markdown",
      "metadata": {
        "id": "SQe7uyWi3PYx"
      },
      "source": [
        "#-[0]. {Optional} Load google drive for csv"
      ]
    },
    {
      "cell_type": "code",
      "metadata": {
        "colab": {
          "base_uri": "https://localhost:8080/"
        },
        "id": "0WTUjIhbiU6C",
        "outputId": "60e100f9-80ed-418c-c793-6b5db3f0d40a"
      },
      "source": [
        "from google.colab import drive\n",
        "drive.mount('/content/drive')"
      ],
      "execution_count": 1,
      "outputs": [
        {
          "output_type": "stream",
          "name": "stdout",
          "text": [
            "Mounted at /content/drive\n"
          ]
        }
      ]
    },
    {
      "cell_type": "code",
      "metadata": {
        "id": "VOVgXvcmi0Dd",
        "colab": {
          "base_uri": "https://localhost:8080/"
        },
        "outputId": "6cbbe317-d777-44e6-a0ef-eb810e52442a"
      },
      "source": [
        "%cd /content/drive/My Drive/URJC/Cours/'Reconocimiento patrones'\n",
        "\n",
        "!ls"
      ],
      "execution_count": 1,
      "outputs": [
        {
          "output_type": "stream",
          "name": "stdout",
          "text": [
            "/content/drive/My Drive/URJC/Cours/Reconocimiento patrones\n",
            "'Cour 1'\t     Datasets\n",
            "'Cour 10 (21oct)'   'Guía de repaso (Respuestas).gdoc'\n",
            "'cour 12 (28 oct)'   ml_map.png\n",
            "'Cour 2'\t     notas-reco-patrones.pdf\n",
            "'cour 3 (30sept)'   '[Perso] de Guía de repaso (Respuestas).gdoc'\n",
            "'cour 4'\t     Reto1_2021.pdf\n",
            "'cour 5 (4oct)'      Reto2_2021.pdf\n",
            "'cour 6 (7oct)'\n"
          ]
        }
      ]
    },
    {
      "cell_type": "markdown",
      "metadata": {
        "id": "GwW4hXZj0g5C"
      },
      "source": [
        "#-[1]. Importing package needed\n"
      ]
    },
    {
      "cell_type": "code",
      "metadata": {
        "id": "X6Pu1giMilKn"
      },
      "source": [
        "import sklearn\n",
        "import numpy as np\n",
        "import pandas as pd\n",
        "import seaborn as sb\n",
        "\n",
        "%matplotlib inline\n",
        "from matplotlib import pyplot as plt\n",
        "\n",
        "# seed = 1234 #<- random generator seed (0 to get randomness)\n",
        "seed = 0"
      ],
      "execution_count": 2,
      "outputs": []
    },
    {
      "cell_type": "markdown",
      "metadata": {
        "id": "4MDM_6Sk0pRf"
      },
      "source": [
        "#-[2]. Load data from CSV : X_all_set (features) and Y_all_set (labels)"
      ]
    },
    {
      "cell_type": "code",
      "metadata": {
        "colab": {
          "base_uri": "https://localhost:8080/"
        },
        "id": "EWNvRSorj8tR",
        "outputId": "8122dfcf-186c-474e-eeb7-b0d92fb98f5b"
      },
      "source": [
        "X_all_set = pd.read_csv('Datasets/reto3_trainX.csv')\n",
        "Y_all_set = pd.read_csv('Datasets/reto3_trainY.csv')\n",
        "\n",
        "print(\"Features shape : \" + str(X_all_set.shape))\n",
        "print(\"Label shape : \" + str(Y_all_set.shape))"
      ],
      "execution_count": 3,
      "outputs": [
        {
          "output_type": "stream",
          "name": "stdout",
          "text": [
            "Features shape : (116202, 54)\n",
            "Label shape : (116202, 1)\n"
          ]
        }
      ]
    },
    {
      "cell_type": "code",
      "metadata": {
        "id": "ijrhiS8ekRpi",
        "colab": {
          "base_uri": "https://localhost:8080/",
          "height": 224
        },
        "outputId": "8f9b14b3-a4ea-4b8a-c59a-368c6d294296"
      },
      "source": [
        "pd.set_option(\"display.max_columns\", None)\n",
        "X_all_set.head()"
      ],
      "execution_count": 4,
      "outputs": [
        {
          "output_type": "execute_result",
          "data": {
            "text/html": [
              "<div>\n",
              "<style scoped>\n",
              "    .dataframe tbody tr th:only-of-type {\n",
              "        vertical-align: middle;\n",
              "    }\n",
              "\n",
              "    .dataframe tbody tr th {\n",
              "        vertical-align: top;\n",
              "    }\n",
              "\n",
              "    .dataframe thead th {\n",
              "        text-align: right;\n",
              "    }\n",
              "</style>\n",
              "<table border=\"1\" class=\"dataframe\">\n",
              "  <thead>\n",
              "    <tr style=\"text-align: right;\">\n",
              "      <th></th>\n",
              "      <th>altitud</th>\n",
              "      <th>azimut</th>\n",
              "      <th>inclinacion</th>\n",
              "      <th>DH_agua</th>\n",
              "      <th>DV_agua</th>\n",
              "      <th>DH_camino</th>\n",
              "      <th>sombra_9am</th>\n",
              "      <th>sombra_12pm</th>\n",
              "      <th>sombra_3pm</th>\n",
              "      <th>DH_fuego</th>\n",
              "      <th>reserva_1</th>\n",
              "      <th>reserva_2</th>\n",
              "      <th>reserva_3</th>\n",
              "      <th>Reserva_4</th>\n",
              "      <th>t1</th>\n",
              "      <th>t2</th>\n",
              "      <th>t3</th>\n",
              "      <th>t4</th>\n",
              "      <th>t5</th>\n",
              "      <th>t6</th>\n",
              "      <th>t7</th>\n",
              "      <th>t8</th>\n",
              "      <th>t9</th>\n",
              "      <th>t10</th>\n",
              "      <th>t11</th>\n",
              "      <th>t12</th>\n",
              "      <th>t13</th>\n",
              "      <th>t14</th>\n",
              "      <th>t15</th>\n",
              "      <th>t16</th>\n",
              "      <th>t17</th>\n",
              "      <th>t18</th>\n",
              "      <th>t19</th>\n",
              "      <th>t20</th>\n",
              "      <th>t21</th>\n",
              "      <th>t22</th>\n",
              "      <th>t23</th>\n",
              "      <th>t24</th>\n",
              "      <th>t25</th>\n",
              "      <th>t26</th>\n",
              "      <th>t27</th>\n",
              "      <th>t28</th>\n",
              "      <th>t29</th>\n",
              "      <th>t30</th>\n",
              "      <th>t31</th>\n",
              "      <th>t32</th>\n",
              "      <th>t33</th>\n",
              "      <th>t34</th>\n",
              "      <th>t35</th>\n",
              "      <th>t36</th>\n",
              "      <th>t37</th>\n",
              "      <th>t38</th>\n",
              "      <th>t39</th>\n",
              "      <th>t40</th>\n",
              "    </tr>\n",
              "  </thead>\n",
              "  <tbody>\n",
              "    <tr>\n",
              "      <th>0</th>\n",
              "      <td>3351</td>\n",
              "      <td>354</td>\n",
              "      <td>19</td>\n",
              "      <td>450</td>\n",
              "      <td>95</td>\n",
              "      <td>1064</td>\n",
              "      <td>185</td>\n",
              "      <td>203</td>\n",
              "      <td>153</td>\n",
              "      <td>711</td>\n",
              "      <td>1</td>\n",
              "      <td>0</td>\n",
              "      <td>0</td>\n",
              "      <td>0</td>\n",
              "      <td>0</td>\n",
              "      <td>0</td>\n",
              "      <td>0</td>\n",
              "      <td>0</td>\n",
              "      <td>0</td>\n",
              "      <td>0</td>\n",
              "      <td>0</td>\n",
              "      <td>0</td>\n",
              "      <td>0</td>\n",
              "      <td>0</td>\n",
              "      <td>0</td>\n",
              "      <td>0</td>\n",
              "      <td>0</td>\n",
              "      <td>0</td>\n",
              "      <td>0</td>\n",
              "      <td>0</td>\n",
              "      <td>0</td>\n",
              "      <td>0</td>\n",
              "      <td>0</td>\n",
              "      <td>0</td>\n",
              "      <td>0</td>\n",
              "      <td>0</td>\n",
              "      <td>0</td>\n",
              "      <td>0</td>\n",
              "      <td>0</td>\n",
              "      <td>0</td>\n",
              "      <td>0</td>\n",
              "      <td>0</td>\n",
              "      <td>0</td>\n",
              "      <td>0</td>\n",
              "      <td>0</td>\n",
              "      <td>0</td>\n",
              "      <td>0</td>\n",
              "      <td>0</td>\n",
              "      <td>0</td>\n",
              "      <td>0</td>\n",
              "      <td>0</td>\n",
              "      <td>0</td>\n",
              "      <td>1</td>\n",
              "      <td>0</td>\n",
              "    </tr>\n",
              "    <tr>\n",
              "      <th>1</th>\n",
              "      <td>2995</td>\n",
              "      <td>84</td>\n",
              "      <td>7</td>\n",
              "      <td>481</td>\n",
              "      <td>30</td>\n",
              "      <td>5154</td>\n",
              "      <td>231</td>\n",
              "      <td>227</td>\n",
              "      <td>129</td>\n",
              "      <td>5488</td>\n",
              "      <td>1</td>\n",
              "      <td>0</td>\n",
              "      <td>0</td>\n",
              "      <td>0</td>\n",
              "      <td>0</td>\n",
              "      <td>0</td>\n",
              "      <td>0</td>\n",
              "      <td>0</td>\n",
              "      <td>0</td>\n",
              "      <td>0</td>\n",
              "      <td>0</td>\n",
              "      <td>0</td>\n",
              "      <td>0</td>\n",
              "      <td>0</td>\n",
              "      <td>0</td>\n",
              "      <td>0</td>\n",
              "      <td>0</td>\n",
              "      <td>0</td>\n",
              "      <td>0</td>\n",
              "      <td>0</td>\n",
              "      <td>0</td>\n",
              "      <td>0</td>\n",
              "      <td>1</td>\n",
              "      <td>0</td>\n",
              "      <td>0</td>\n",
              "      <td>0</td>\n",
              "      <td>0</td>\n",
              "      <td>0</td>\n",
              "      <td>0</td>\n",
              "      <td>0</td>\n",
              "      <td>0</td>\n",
              "      <td>0</td>\n",
              "      <td>0</td>\n",
              "      <td>0</td>\n",
              "      <td>0</td>\n",
              "      <td>0</td>\n",
              "      <td>0</td>\n",
              "      <td>0</td>\n",
              "      <td>0</td>\n",
              "      <td>0</td>\n",
              "      <td>0</td>\n",
              "      <td>0</td>\n",
              "      <td>0</td>\n",
              "      <td>0</td>\n",
              "    </tr>\n",
              "    <tr>\n",
              "      <th>2</th>\n",
              "      <td>2884</td>\n",
              "      <td>72</td>\n",
              "      <td>25</td>\n",
              "      <td>210</td>\n",
              "      <td>-45</td>\n",
              "      <td>466</td>\n",
              "      <td>239</td>\n",
              "      <td>183</td>\n",
              "      <td>60</td>\n",
              "      <td>2123</td>\n",
              "      <td>1</td>\n",
              "      <td>0</td>\n",
              "      <td>0</td>\n",
              "      <td>0</td>\n",
              "      <td>0</td>\n",
              "      <td>0</td>\n",
              "      <td>0</td>\n",
              "      <td>0</td>\n",
              "      <td>0</td>\n",
              "      <td>0</td>\n",
              "      <td>0</td>\n",
              "      <td>0</td>\n",
              "      <td>0</td>\n",
              "      <td>0</td>\n",
              "      <td>0</td>\n",
              "      <td>0</td>\n",
              "      <td>0</td>\n",
              "      <td>0</td>\n",
              "      <td>0</td>\n",
              "      <td>0</td>\n",
              "      <td>0</td>\n",
              "      <td>0</td>\n",
              "      <td>0</td>\n",
              "      <td>0</td>\n",
              "      <td>0</td>\n",
              "      <td>0</td>\n",
              "      <td>0</td>\n",
              "      <td>0</td>\n",
              "      <td>0</td>\n",
              "      <td>0</td>\n",
              "      <td>0</td>\n",
              "      <td>0</td>\n",
              "      <td>0</td>\n",
              "      <td>1</td>\n",
              "      <td>0</td>\n",
              "      <td>0</td>\n",
              "      <td>0</td>\n",
              "      <td>0</td>\n",
              "      <td>0</td>\n",
              "      <td>0</td>\n",
              "      <td>0</td>\n",
              "      <td>0</td>\n",
              "      <td>0</td>\n",
              "      <td>0</td>\n",
              "    </tr>\n",
              "    <tr>\n",
              "      <th>3</th>\n",
              "      <td>3139</td>\n",
              "      <td>76</td>\n",
              "      <td>11</td>\n",
              "      <td>301</td>\n",
              "      <td>58</td>\n",
              "      <td>1368</td>\n",
              "      <td>234</td>\n",
              "      <td>220</td>\n",
              "      <td>117</td>\n",
              "      <td>3282</td>\n",
              "      <td>0</td>\n",
              "      <td>0</td>\n",
              "      <td>1</td>\n",
              "      <td>0</td>\n",
              "      <td>0</td>\n",
              "      <td>0</td>\n",
              "      <td>0</td>\n",
              "      <td>0</td>\n",
              "      <td>0</td>\n",
              "      <td>0</td>\n",
              "      <td>0</td>\n",
              "      <td>0</td>\n",
              "      <td>0</td>\n",
              "      <td>0</td>\n",
              "      <td>0</td>\n",
              "      <td>0</td>\n",
              "      <td>0</td>\n",
              "      <td>0</td>\n",
              "      <td>0</td>\n",
              "      <td>0</td>\n",
              "      <td>0</td>\n",
              "      <td>0</td>\n",
              "      <td>0</td>\n",
              "      <td>0</td>\n",
              "      <td>0</td>\n",
              "      <td>0</td>\n",
              "      <td>0</td>\n",
              "      <td>0</td>\n",
              "      <td>0</td>\n",
              "      <td>0</td>\n",
              "      <td>0</td>\n",
              "      <td>0</td>\n",
              "      <td>0</td>\n",
              "      <td>0</td>\n",
              "      <td>0</td>\n",
              "      <td>0</td>\n",
              "      <td>1</td>\n",
              "      <td>0</td>\n",
              "      <td>0</td>\n",
              "      <td>0</td>\n",
              "      <td>0</td>\n",
              "      <td>0</td>\n",
              "      <td>0</td>\n",
              "      <td>0</td>\n",
              "    </tr>\n",
              "    <tr>\n",
              "      <th>4</th>\n",
              "      <td>3018</td>\n",
              "      <td>312</td>\n",
              "      <td>17</td>\n",
              "      <td>30</td>\n",
              "      <td>10</td>\n",
              "      <td>1719</td>\n",
              "      <td>172</td>\n",
              "      <td>225</td>\n",
              "      <td>193</td>\n",
              "      <td>1961</td>\n",
              "      <td>1</td>\n",
              "      <td>0</td>\n",
              "      <td>0</td>\n",
              "      <td>0</td>\n",
              "      <td>0</td>\n",
              "      <td>0</td>\n",
              "      <td>0</td>\n",
              "      <td>0</td>\n",
              "      <td>0</td>\n",
              "      <td>0</td>\n",
              "      <td>0</td>\n",
              "      <td>0</td>\n",
              "      <td>0</td>\n",
              "      <td>0</td>\n",
              "      <td>0</td>\n",
              "      <td>0</td>\n",
              "      <td>0</td>\n",
              "      <td>0</td>\n",
              "      <td>0</td>\n",
              "      <td>0</td>\n",
              "      <td>0</td>\n",
              "      <td>0</td>\n",
              "      <td>0</td>\n",
              "      <td>0</td>\n",
              "      <td>0</td>\n",
              "      <td>0</td>\n",
              "      <td>0</td>\n",
              "      <td>0</td>\n",
              "      <td>0</td>\n",
              "      <td>0</td>\n",
              "      <td>0</td>\n",
              "      <td>0</td>\n",
              "      <td>1</td>\n",
              "      <td>0</td>\n",
              "      <td>0</td>\n",
              "      <td>0</td>\n",
              "      <td>0</td>\n",
              "      <td>0</td>\n",
              "      <td>0</td>\n",
              "      <td>0</td>\n",
              "      <td>0</td>\n",
              "      <td>0</td>\n",
              "      <td>0</td>\n",
              "      <td>0</td>\n",
              "    </tr>\n",
              "  </tbody>\n",
              "</table>\n",
              "</div>"
            ],
            "text/plain": [
              "   altitud  azimut  inclinacion  DH_agua  DV_agua  DH_camino  sombra_9am  \\\n",
              "0     3351     354           19      450       95       1064         185   \n",
              "1     2995      84            7      481       30       5154         231   \n",
              "2     2884      72           25      210      -45        466         239   \n",
              "3     3139      76           11      301       58       1368         234   \n",
              "4     3018     312           17       30       10       1719         172   \n",
              "\n",
              "   sombra_12pm  sombra_3pm  DH_fuego  reserva_1  reserva_2  reserva_3  \\\n",
              "0          203         153       711          1          0          0   \n",
              "1          227         129      5488          1          0          0   \n",
              "2          183          60      2123          1          0          0   \n",
              "3          220         117      3282          0          0          1   \n",
              "4          225         193      1961          1          0          0   \n",
              "\n",
              "   Reserva_4  t1  t2  t3  t4  t5  t6  t7  t8  t9  t10  t11  t12  t13  t14  \\\n",
              "0          0   0   0   0   0   0   0   0   0   0    0    0    0    0    0   \n",
              "1          0   0   0   0   0   0   0   0   0   0    0    0    0    0    0   \n",
              "2          0   0   0   0   0   0   0   0   0   0    0    0    0    0    0   \n",
              "3          0   0   0   0   0   0   0   0   0   0    0    0    0    0    0   \n",
              "4          0   0   0   0   0   0   0   0   0   0    0    0    0    0    0   \n",
              "\n",
              "   t15  t16  t17  t18  t19  t20  t21  t22  t23  t24  t25  t26  t27  t28  t29  \\\n",
              "0    0    0    0    0    0    0    0    0    0    0    0    0    0    0    0   \n",
              "1    0    0    0    0    1    0    0    0    0    0    0    0    0    0    0   \n",
              "2    0    0    0    0    0    0    0    0    0    0    0    0    0    0    0   \n",
              "3    0    0    0    0    0    0    0    0    0    0    0    0    0    0    0   \n",
              "4    0    0    0    0    0    0    0    0    0    0    0    0    0    0    1   \n",
              "\n",
              "   t30  t31  t32  t33  t34  t35  t36  t37  t38  t39  t40  \n",
              "0    0    0    0    0    0    0    0    0    0    1    0  \n",
              "1    0    0    0    0    0    0    0    0    0    0    0  \n",
              "2    1    0    0    0    0    0    0    0    0    0    0  \n",
              "3    0    0    0    1    0    0    0    0    0    0    0  \n",
              "4    0    0    0    0    0    0    0    0    0    0    0  "
            ]
          },
          "metadata": {},
          "execution_count": 4
        }
      ]
    },
    {
      "cell_type": "code",
      "metadata": {
        "colab": {
          "base_uri": "https://localhost:8080/",
          "height": 204
        },
        "id": "IOIU1UlpsZZR",
        "outputId": "5ae43a19-e2c5-4d40-8aec-0706018f8e47"
      },
      "source": [
        "Y_all_set.head()"
      ],
      "execution_count": 5,
      "outputs": [
        {
          "output_type": "execute_result",
          "data": {
            "text/html": [
              "<div>\n",
              "<style scoped>\n",
              "    .dataframe tbody tr th:only-of-type {\n",
              "        vertical-align: middle;\n",
              "    }\n",
              "\n",
              "    .dataframe tbody tr th {\n",
              "        vertical-align: top;\n",
              "    }\n",
              "\n",
              "    .dataframe thead th {\n",
              "        text-align: right;\n",
              "    }\n",
              "</style>\n",
              "<table border=\"1\" class=\"dataframe\">\n",
              "  <thead>\n",
              "    <tr style=\"text-align: right;\">\n",
              "      <th></th>\n",
              "      <th>tipo_bosque</th>\n",
              "    </tr>\n",
              "  </thead>\n",
              "  <tbody>\n",
              "    <tr>\n",
              "      <th>0</th>\n",
              "      <td>1</td>\n",
              "    </tr>\n",
              "    <tr>\n",
              "      <th>1</th>\n",
              "      <td>2</td>\n",
              "    </tr>\n",
              "    <tr>\n",
              "      <th>2</th>\n",
              "      <td>2</td>\n",
              "    </tr>\n",
              "    <tr>\n",
              "      <th>3</th>\n",
              "      <td>1</td>\n",
              "    </tr>\n",
              "    <tr>\n",
              "      <th>4</th>\n",
              "      <td>1</td>\n",
              "    </tr>\n",
              "  </tbody>\n",
              "</table>\n",
              "</div>"
            ],
            "text/plain": [
              "   tipo_bosque\n",
              "0            1\n",
              "1            2\n",
              "2            2\n",
              "3            1\n",
              "4            1"
            ]
          },
          "metadata": {},
          "execution_count": 5
        }
      ]
    },
    {
      "cell_type": "code",
      "metadata": {
        "colab": {
          "base_uri": "https://localhost:8080/"
        },
        "id": "PeAr9cLyrtwt",
        "outputId": "234a0032-9aca-45e6-890a-0c193ce469ea"
      },
      "source": [
        "names = X_all_set.columns\n",
        "for i in names:\n",
        "  print(i, end='   ')"
      ],
      "execution_count": 6,
      "outputs": [
        {
          "output_type": "stream",
          "name": "stdout",
          "text": [
            "altitud   azimut   inclinacion   DH_agua   DV_agua   DH_camino   sombra_9am   sombra_12pm   sombra_3pm   DH_fuego   reserva_1   reserva_2   reserva_3   Reserva_4   t1   t2   t3   t4   t5   t6   t7   t8   t9   t10   t11   t12   t13   t14   t15   t16   t17   t18   t19   t20   t21   t22   t23   t24   t25   t26   t27   t28   t29   t30   t31   t32   t33   t34   t35   t36   t37   t38   t39   t40   "
          ]
        }
      ]
    },
    {
      "cell_type": "code",
      "metadata": {
        "id": "X6cZYtmQaqIF",
        "colab": {
          "base_uri": "https://localhost:8080/"
        },
        "outputId": "4bb24bec-bd30-477d-e320-da653fd5ab7c"
      },
      "source": [
        "Y_all_set.value_counts()"
      ],
      "execution_count": 7,
      "outputs": [
        {
          "output_type": "execute_result",
          "data": {
            "text/plain": [
              "tipo_bosque\n",
              "2              56660\n",
              "1              42368\n",
              "3               7151\n",
              "7               4102\n",
              "6               3473\n",
              "5               1899\n",
              "4                549\n",
              "dtype: int64"
            ]
          },
          "metadata": {},
          "execution_count": 7
        }
      ]
    },
    {
      "cell_type": "markdown",
      "metadata": {
        "id": "3Z5wmHtL00dV"
      },
      "source": [
        "#-[3]. Split X_all_set and y_all_set into TRAIN and TEST in a single Stratified split"
      ]
    },
    {
      "cell_type": "markdown",
      "metadata": {
        "id": "tTaqV3Ad5IuN"
      },
      "source": [
        "### Parameters\n",
        "\n",
        "X is the dataframe with examples (rows) and attributes (columns)\n",
        "\n",
        "Y is the dataframe with labels\n",
        "\n",
        "test_size is the percentage of X separated; default is 0.2\n",
        "\n",
        "random_state is a seed for pseudorandom generation (0 to get randomness)\n",
        "\n",
        "### Return\n",
        "\n",
        "X_train, Y_train = dataframes of (1-test_size)% of the X and Y\n",
        "\n",
        "X_test, Y_test = dataframes of test_size% of the X and Y"
      ]
    },
    {
      "cell_type": "code",
      "metadata": {
        "id": "PSN4XGbty3N-"
      },
      "source": [
        "def single_stratified_split(X,Y,test_size=.2, random_state=0):\n",
        "    from sklearn.model_selection import StratifiedShuffleSplit\n",
        "    if random_state != 0:\n",
        "      splitter = StratifiedShuffleSplit(n_splits=1, test_size=test_size, random_state=random_state)\n",
        "    else:\n",
        "      splitter = StratifiedShuffleSplit(n_splits=1, test_size=test_size)\n",
        "    split_ix = splitter.split(X,Y)\n",
        "    for train_ix, test_ix in split_ix:\n",
        "        X_train = X.loc[train_ix].reset_index(drop=True)\n",
        "        Y_train = Y.loc[train_ix].reset_index(drop=True)\n",
        "        X_test  = X.loc[test_ix].reset_index(drop=True)\n",
        "        Y_test  = Y.loc[test_ix].reset_index(drop=True)\n",
        "    return X_train, Y_train, X_test, Y_test"
      ],
      "execution_count": 8,
      "outputs": []
    },
    {
      "cell_type": "markdown",
      "metadata": {
        "id": "joNPMyuA5f6h"
      },
      "source": [
        "### Spliting the dataset"
      ]
    },
    {
      "cell_type": "code",
      "metadata": {
        "id": "BuQ1WffZlkZS"
      },
      "source": [
        "valid_size = 0.2\n",
        "X_train, Y_train, X_valid, Y_valid = \\\n",
        "   single_stratified_split( X_all_set, Y_all_set, test_size=valid_size, random_state=seed)"
      ],
      "execution_count": 9,
      "outputs": []
    },
    {
      "cell_type": "markdown",
      "metadata": {
        "id": "KF0NnW5R1Eww"
      },
      "source": [
        "#-[4]. Fit a scaler to [0,1]"
      ]
    },
    {
      "cell_type": "code",
      "metadata": {
        "id": "bmv6U4JF3Vj_",
        "colab": {
          "base_uri": "https://localhost:8080/",
          "height": 224
        },
        "outputId": "98a15b53-223d-424a-be23-157d6b2572ea"
      },
      "source": [
        "X_train.head()"
      ],
      "execution_count": 10,
      "outputs": [
        {
          "output_type": "execute_result",
          "data": {
            "text/html": [
              "<div>\n",
              "<style scoped>\n",
              "    .dataframe tbody tr th:only-of-type {\n",
              "        vertical-align: middle;\n",
              "    }\n",
              "\n",
              "    .dataframe tbody tr th {\n",
              "        vertical-align: top;\n",
              "    }\n",
              "\n",
              "    .dataframe thead th {\n",
              "        text-align: right;\n",
              "    }\n",
              "</style>\n",
              "<table border=\"1\" class=\"dataframe\">\n",
              "  <thead>\n",
              "    <tr style=\"text-align: right;\">\n",
              "      <th></th>\n",
              "      <th>altitud</th>\n",
              "      <th>azimut</th>\n",
              "      <th>inclinacion</th>\n",
              "      <th>DH_agua</th>\n",
              "      <th>DV_agua</th>\n",
              "      <th>DH_camino</th>\n",
              "      <th>sombra_9am</th>\n",
              "      <th>sombra_12pm</th>\n",
              "      <th>sombra_3pm</th>\n",
              "      <th>DH_fuego</th>\n",
              "      <th>reserva_1</th>\n",
              "      <th>reserva_2</th>\n",
              "      <th>reserva_3</th>\n",
              "      <th>Reserva_4</th>\n",
              "      <th>t1</th>\n",
              "      <th>t2</th>\n",
              "      <th>t3</th>\n",
              "      <th>t4</th>\n",
              "      <th>t5</th>\n",
              "      <th>t6</th>\n",
              "      <th>t7</th>\n",
              "      <th>t8</th>\n",
              "      <th>t9</th>\n",
              "      <th>t10</th>\n",
              "      <th>t11</th>\n",
              "      <th>t12</th>\n",
              "      <th>t13</th>\n",
              "      <th>t14</th>\n",
              "      <th>t15</th>\n",
              "      <th>t16</th>\n",
              "      <th>t17</th>\n",
              "      <th>t18</th>\n",
              "      <th>t19</th>\n",
              "      <th>t20</th>\n",
              "      <th>t21</th>\n",
              "      <th>t22</th>\n",
              "      <th>t23</th>\n",
              "      <th>t24</th>\n",
              "      <th>t25</th>\n",
              "      <th>t26</th>\n",
              "      <th>t27</th>\n",
              "      <th>t28</th>\n",
              "      <th>t29</th>\n",
              "      <th>t30</th>\n",
              "      <th>t31</th>\n",
              "      <th>t32</th>\n",
              "      <th>t33</th>\n",
              "      <th>t34</th>\n",
              "      <th>t35</th>\n",
              "      <th>t36</th>\n",
              "      <th>t37</th>\n",
              "      <th>t38</th>\n",
              "      <th>t39</th>\n",
              "      <th>t40</th>\n",
              "    </tr>\n",
              "  </thead>\n",
              "  <tbody>\n",
              "    <tr>\n",
              "      <th>0</th>\n",
              "      <td>3037</td>\n",
              "      <td>270</td>\n",
              "      <td>8</td>\n",
              "      <td>553</td>\n",
              "      <td>39</td>\n",
              "      <td>5922</td>\n",
              "      <td>199</td>\n",
              "      <td>243</td>\n",
              "      <td>183</td>\n",
              "      <td>4384</td>\n",
              "      <td>1</td>\n",
              "      <td>0</td>\n",
              "      <td>0</td>\n",
              "      <td>0</td>\n",
              "      <td>0</td>\n",
              "      <td>0</td>\n",
              "      <td>0</td>\n",
              "      <td>0</td>\n",
              "      <td>0</td>\n",
              "      <td>0</td>\n",
              "      <td>0</td>\n",
              "      <td>0</td>\n",
              "      <td>0</td>\n",
              "      <td>0</td>\n",
              "      <td>0</td>\n",
              "      <td>0</td>\n",
              "      <td>0</td>\n",
              "      <td>0</td>\n",
              "      <td>0</td>\n",
              "      <td>0</td>\n",
              "      <td>0</td>\n",
              "      <td>0</td>\n",
              "      <td>0</td>\n",
              "      <td>0</td>\n",
              "      <td>0</td>\n",
              "      <td>0</td>\n",
              "      <td>0</td>\n",
              "      <td>0</td>\n",
              "      <td>0</td>\n",
              "      <td>0</td>\n",
              "      <td>0</td>\n",
              "      <td>0</td>\n",
              "      <td>1</td>\n",
              "      <td>0</td>\n",
              "      <td>0</td>\n",
              "      <td>0</td>\n",
              "      <td>0</td>\n",
              "      <td>0</td>\n",
              "      <td>0</td>\n",
              "      <td>0</td>\n",
              "      <td>0</td>\n",
              "      <td>0</td>\n",
              "      <td>0</td>\n",
              "      <td>0</td>\n",
              "    </tr>\n",
              "    <tr>\n",
              "      <th>1</th>\n",
              "      <td>3060</td>\n",
              "      <td>91</td>\n",
              "      <td>10</td>\n",
              "      <td>618</td>\n",
              "      <td>42</td>\n",
              "      <td>1570</td>\n",
              "      <td>235</td>\n",
              "      <td>225</td>\n",
              "      <td>120</td>\n",
              "      <td>2477</td>\n",
              "      <td>1</td>\n",
              "      <td>0</td>\n",
              "      <td>0</td>\n",
              "      <td>0</td>\n",
              "      <td>0</td>\n",
              "      <td>0</td>\n",
              "      <td>0</td>\n",
              "      <td>0</td>\n",
              "      <td>0</td>\n",
              "      <td>0</td>\n",
              "      <td>0</td>\n",
              "      <td>0</td>\n",
              "      <td>0</td>\n",
              "      <td>0</td>\n",
              "      <td>0</td>\n",
              "      <td>0</td>\n",
              "      <td>0</td>\n",
              "      <td>0</td>\n",
              "      <td>0</td>\n",
              "      <td>0</td>\n",
              "      <td>0</td>\n",
              "      <td>0</td>\n",
              "      <td>0</td>\n",
              "      <td>0</td>\n",
              "      <td>0</td>\n",
              "      <td>0</td>\n",
              "      <td>0</td>\n",
              "      <td>0</td>\n",
              "      <td>0</td>\n",
              "      <td>0</td>\n",
              "      <td>0</td>\n",
              "      <td>0</td>\n",
              "      <td>1</td>\n",
              "      <td>0</td>\n",
              "      <td>0</td>\n",
              "      <td>0</td>\n",
              "      <td>0</td>\n",
              "      <td>0</td>\n",
              "      <td>0</td>\n",
              "      <td>0</td>\n",
              "      <td>0</td>\n",
              "      <td>0</td>\n",
              "      <td>0</td>\n",
              "      <td>0</td>\n",
              "    </tr>\n",
              "    <tr>\n",
              "      <th>2</th>\n",
              "      <td>2567</td>\n",
              "      <td>40</td>\n",
              "      <td>7</td>\n",
              "      <td>60</td>\n",
              "      <td>0</td>\n",
              "      <td>1768</td>\n",
              "      <td>221</td>\n",
              "      <td>224</td>\n",
              "      <td>138</td>\n",
              "      <td>1889</td>\n",
              "      <td>0</td>\n",
              "      <td>0</td>\n",
              "      <td>1</td>\n",
              "      <td>0</td>\n",
              "      <td>0</td>\n",
              "      <td>1</td>\n",
              "      <td>0</td>\n",
              "      <td>0</td>\n",
              "      <td>0</td>\n",
              "      <td>0</td>\n",
              "      <td>0</td>\n",
              "      <td>0</td>\n",
              "      <td>0</td>\n",
              "      <td>0</td>\n",
              "      <td>0</td>\n",
              "      <td>0</td>\n",
              "      <td>0</td>\n",
              "      <td>0</td>\n",
              "      <td>0</td>\n",
              "      <td>0</td>\n",
              "      <td>0</td>\n",
              "      <td>0</td>\n",
              "      <td>0</td>\n",
              "      <td>0</td>\n",
              "      <td>0</td>\n",
              "      <td>0</td>\n",
              "      <td>0</td>\n",
              "      <td>0</td>\n",
              "      <td>0</td>\n",
              "      <td>0</td>\n",
              "      <td>0</td>\n",
              "      <td>0</td>\n",
              "      <td>0</td>\n",
              "      <td>0</td>\n",
              "      <td>0</td>\n",
              "      <td>0</td>\n",
              "      <td>0</td>\n",
              "      <td>0</td>\n",
              "      <td>0</td>\n",
              "      <td>0</td>\n",
              "      <td>0</td>\n",
              "      <td>0</td>\n",
              "      <td>0</td>\n",
              "      <td>0</td>\n",
              "    </tr>\n",
              "    <tr>\n",
              "      <th>3</th>\n",
              "      <td>2793</td>\n",
              "      <td>23</td>\n",
              "      <td>21</td>\n",
              "      <td>85</td>\n",
              "      <td>27</td>\n",
              "      <td>2371</td>\n",
              "      <td>203</td>\n",
              "      <td>191</td>\n",
              "      <td>117</td>\n",
              "      <td>767</td>\n",
              "      <td>0</td>\n",
              "      <td>0</td>\n",
              "      <td>1</td>\n",
              "      <td>0</td>\n",
              "      <td>0</td>\n",
              "      <td>0</td>\n",
              "      <td>0</td>\n",
              "      <td>0</td>\n",
              "      <td>0</td>\n",
              "      <td>0</td>\n",
              "      <td>0</td>\n",
              "      <td>0</td>\n",
              "      <td>0</td>\n",
              "      <td>0</td>\n",
              "      <td>0</td>\n",
              "      <td>0</td>\n",
              "      <td>0</td>\n",
              "      <td>0</td>\n",
              "      <td>0</td>\n",
              "      <td>0</td>\n",
              "      <td>0</td>\n",
              "      <td>0</td>\n",
              "      <td>0</td>\n",
              "      <td>0</td>\n",
              "      <td>0</td>\n",
              "      <td>0</td>\n",
              "      <td>0</td>\n",
              "      <td>0</td>\n",
              "      <td>0</td>\n",
              "      <td>0</td>\n",
              "      <td>0</td>\n",
              "      <td>0</td>\n",
              "      <td>0</td>\n",
              "      <td>0</td>\n",
              "      <td>1</td>\n",
              "      <td>0</td>\n",
              "      <td>0</td>\n",
              "      <td>0</td>\n",
              "      <td>0</td>\n",
              "      <td>0</td>\n",
              "      <td>0</td>\n",
              "      <td>0</td>\n",
              "      <td>0</td>\n",
              "      <td>0</td>\n",
              "    </tr>\n",
              "    <tr>\n",
              "      <th>4</th>\n",
              "      <td>2819</td>\n",
              "      <td>167</td>\n",
              "      <td>6</td>\n",
              "      <td>210</td>\n",
              "      <td>9</td>\n",
              "      <td>2036</td>\n",
              "      <td>225</td>\n",
              "      <td>242</td>\n",
              "      <td>151</td>\n",
              "      <td>2363</td>\n",
              "      <td>1</td>\n",
              "      <td>0</td>\n",
              "      <td>0</td>\n",
              "      <td>0</td>\n",
              "      <td>0</td>\n",
              "      <td>0</td>\n",
              "      <td>0</td>\n",
              "      <td>0</td>\n",
              "      <td>0</td>\n",
              "      <td>0</td>\n",
              "      <td>0</td>\n",
              "      <td>0</td>\n",
              "      <td>0</td>\n",
              "      <td>0</td>\n",
              "      <td>0</td>\n",
              "      <td>0</td>\n",
              "      <td>0</td>\n",
              "      <td>0</td>\n",
              "      <td>0</td>\n",
              "      <td>0</td>\n",
              "      <td>0</td>\n",
              "      <td>0</td>\n",
              "      <td>0</td>\n",
              "      <td>0</td>\n",
              "      <td>0</td>\n",
              "      <td>0</td>\n",
              "      <td>0</td>\n",
              "      <td>0</td>\n",
              "      <td>0</td>\n",
              "      <td>0</td>\n",
              "      <td>0</td>\n",
              "      <td>0</td>\n",
              "      <td>0</td>\n",
              "      <td>1</td>\n",
              "      <td>0</td>\n",
              "      <td>0</td>\n",
              "      <td>0</td>\n",
              "      <td>0</td>\n",
              "      <td>0</td>\n",
              "      <td>0</td>\n",
              "      <td>0</td>\n",
              "      <td>0</td>\n",
              "      <td>0</td>\n",
              "      <td>0</td>\n",
              "    </tr>\n",
              "  </tbody>\n",
              "</table>\n",
              "</div>"
            ],
            "text/plain": [
              "   altitud  azimut  inclinacion  DH_agua  DV_agua  DH_camino  sombra_9am  \\\n",
              "0     3037     270            8      553       39       5922         199   \n",
              "1     3060      91           10      618       42       1570         235   \n",
              "2     2567      40            7       60        0       1768         221   \n",
              "3     2793      23           21       85       27       2371         203   \n",
              "4     2819     167            6      210        9       2036         225   \n",
              "\n",
              "   sombra_12pm  sombra_3pm  DH_fuego  reserva_1  reserva_2  reserva_3  \\\n",
              "0          243         183      4384          1          0          0   \n",
              "1          225         120      2477          1          0          0   \n",
              "2          224         138      1889          0          0          1   \n",
              "3          191         117       767          0          0          1   \n",
              "4          242         151      2363          1          0          0   \n",
              "\n",
              "   Reserva_4  t1  t2  t3  t4  t5  t6  t7  t8  t9  t10  t11  t12  t13  t14  \\\n",
              "0          0   0   0   0   0   0   0   0   0   0    0    0    0    0    0   \n",
              "1          0   0   0   0   0   0   0   0   0   0    0    0    0    0    0   \n",
              "2          0   0   1   0   0   0   0   0   0   0    0    0    0    0    0   \n",
              "3          0   0   0   0   0   0   0   0   0   0    0    0    0    0    0   \n",
              "4          0   0   0   0   0   0   0   0   0   0    0    0    0    0    0   \n",
              "\n",
              "   t15  t16  t17  t18  t19  t20  t21  t22  t23  t24  t25  t26  t27  t28  t29  \\\n",
              "0    0    0    0    0    0    0    0    0    0    0    0    0    0    0    1   \n",
              "1    0    0    0    0    0    0    0    0    0    0    0    0    0    0    1   \n",
              "2    0    0    0    0    0    0    0    0    0    0    0    0    0    0    0   \n",
              "3    0    0    0    0    0    0    0    0    0    0    0    0    0    0    0   \n",
              "4    0    0    0    0    0    0    0    0    0    0    0    0    0    0    0   \n",
              "\n",
              "   t30  t31  t32  t33  t34  t35  t36  t37  t38  t39  t40  \n",
              "0    0    0    0    0    0    0    0    0    0    0    0  \n",
              "1    0    0    0    0    0    0    0    0    0    0    0  \n",
              "2    0    0    0    0    0    0    0    0    0    0    0  \n",
              "3    0    1    0    0    0    0    0    0    0    0    0  \n",
              "4    1    0    0    0    0    0    0    0    0    0    0  "
            ]
          },
          "metadata": {},
          "execution_count": 10
        }
      ]
    },
    {
      "cell_type": "code",
      "metadata": {
        "id": "tNSUiQHD3oyZ",
        "colab": {
          "base_uri": "https://localhost:8080/"
        },
        "outputId": "157a7bcb-8cf9-45f3-d8d2-d5b37ecd1631"
      },
      "source": [
        "print(\"Features train set shape : \" + str(X_train.shape))"
      ],
      "execution_count": 11,
      "outputs": [
        {
          "output_type": "stream",
          "name": "stdout",
          "text": [
            "Features train set shape : (92961, 54)\n"
          ]
        }
      ]
    },
    {
      "cell_type": "code",
      "metadata": {
        "id": "m7ZgoVUe3pFY",
        "colab": {
          "base_uri": "https://localhost:8080/"
        },
        "outputId": "bca36666-df90-4229-eb5a-d29e51ec685f"
      },
      "source": [
        "a = 0\n",
        "for i in X_train['altitud']:\n",
        "  print(i)\n",
        "  a += 1\n",
        "  if a >= 10:\n",
        "    break"
      ],
      "execution_count": 12,
      "outputs": [
        {
          "output_type": "stream",
          "name": "stdout",
          "text": [
            "3037\n",
            "3060\n",
            "2567\n",
            "2793\n",
            "2819\n",
            "2908\n",
            "2975\n",
            "2820\n",
            "2998\n",
            "3197\n"
          ]
        }
      ]
    },
    {
      "cell_type": "code",
      "metadata": {
        "colab": {
          "base_uri": "https://localhost:8080/"
        },
        "id": "ZxcVgCMcMpse",
        "outputId": "a1230536-a5b3-427d-88fd-e617e2cb5146"
      },
      "source": [
        "from sklearn.preprocessing import MinMaxScaler\n",
        "\n",
        "scaler = MinMaxScaler()\n",
        "\n",
        "X_train_scale = scaler.fit_transform(X_train)\n",
        "print(\"Features train set shape (scaled) : \" + str(X_train_scale.shape))"
      ],
      "execution_count": 13,
      "outputs": [
        {
          "output_type": "stream",
          "name": "stdout",
          "text": [
            "Features train set shape (scaled) : (92961, 54)\n"
          ]
        }
      ]
    },
    {
      "cell_type": "code",
      "metadata": {
        "id": "-M38rWpi68i5",
        "colab": {
          "base_uri": "https://localhost:8080/"
        },
        "outputId": "208d3bfd-2661-4892-94e8-e56b3ff6306e"
      },
      "source": [
        "print(X_train_scale)"
      ],
      "execution_count": 14,
      "outputs": [
        {
          "output_type": "stream",
          "name": "stdout",
          "text": [
            "[[0.58938408 0.75       0.12698413 ... 0.         0.         0.        ]\n",
            " [0.60090135 0.25277778 0.15873016 ... 0.         0.         0.        ]\n",
            " [0.35403105 0.11111111 0.11111111 ... 0.         0.         0.        ]\n",
            " ...\n",
            " [0.34051077 0.39722222 0.25396825 ... 0.         0.         0.        ]\n",
            " [0.72408613 0.82777778 0.22222222 ... 0.         1.         0.        ]\n",
            " [0.5317977  0.13333333 0.0952381  ... 0.         0.         0.        ]]\n"
          ]
        }
      ]
    },
    {
      "cell_type": "code",
      "metadata": {
        "colab": {
          "base_uri": "https://localhost:8080/",
          "height": 298
        },
        "id": "24YZHpxA2LIP",
        "outputId": "ed887374-143c-4d13-a8af-48dd87efd620"
      },
      "source": [
        "# Verify scale is good\n",
        "\n",
        "fig, axes = plt.subplots(1,4)\n",
        "axes[0].scatter(X_train['altitud'], X_train['azimut'], X_train['inclinacion'], X_train['DH_agua'])\n",
        "axes[0].set_title(\"Original 1\")\n",
        "axes[1].scatter(X_train['DV_agua'], X_train['sombra_3pm'], X_train['Reserva_4'], X_train['reserva_2'])\n",
        "axes[1].set_title(\"Original 2\")\n",
        "axes[2].scatter(X_train_scale[:, 0], X_train_scale[:, 1], X_train_scale[:, 2], X_train_scale[:, 3])\n",
        "axes[2].set_title(\"MinMax 1\")\n",
        "axes[3].scatter(X_train_scale[:, 4], X_train_scale[:, 8], X_train_scale[:, 13], X_train_scale[:, 11])\n",
        "axes[3].set_title(\"MinMax 2\")\n",
        "print(\"Checking if the scaling as been well done\")\n",
        "plt.show()"
      ],
      "execution_count": 15,
      "outputs": [
        {
          "output_type": "stream",
          "name": "stdout",
          "text": [
            "Checking if the scaling as been well done\n"
          ]
        },
        {
          "output_type": "display_data",
          "data": {
            "image/png": "[encoded data removed]",
            "text/plain": [
              "<Figure size 432x288 with 4 Axes>"
            ]
          },
          "metadata": {
            "needs_background": "light"
          }
        }
      ]
    },
    {
      "cell_type": "markdown",
      "metadata": {
        "id": "hmT1gp0H8rcn"
      },
      "source": [
        "#-[5]. Reduction with PCA (NOT USED)"
      ]
    },
    {
      "cell_type": "code",
      "metadata": {
        "id": "XNMIJqeb8u2c"
      },
      "source": [
        "# We did not use PCA for the final training, that's why X_Proy is never used\n",
        "\n",
        "from sklearn.decomposition import PCA\n",
        "\n",
        "n_components = 20\n",
        "# n_components = 0.5 \n",
        "if n_components <= X_train_scale.shape[1]:\n",
        "    pca = PCA(n_components = n_components)\n",
        "    pca.fit(X_train_scale)\n",
        "    X_proy = pca.transform(X_train_scale)\n",
        "else:\n",
        "    print(\"ERROR: the number of princial components has to be less or equal than data dimension !\")"
      ],
      "execution_count": 16,
      "outputs": []
    },
    {
      "cell_type": "code",
      "metadata": {
        "colab": {
          "base_uri": "https://localhost:8080/"
        },
        "id": "atqkjfAr-G9a",
        "outputId": "b4f686b0-9745-4576-ba79-5875eb12c197"
      },
      "source": [
        "print(X_proy)"
      ],
      "execution_count": 17,
      "outputs": [
        {
          "output_type": "stream",
          "name": "stdout",
          "text": [
            "[[ 0.99994131 -0.44710468  0.4131561  ...  0.11026151 -0.00743703\n",
            "   0.03953452]\n",
            " [ 0.93620257 -0.37298913  0.30274447 ...  0.20101119 -0.03755486\n",
            "   0.14115223]\n",
            " [-0.6793199  -0.12793233 -0.0778922  ... -0.04156608 -0.02548931\n",
            "  -0.09493508]\n",
            " ...\n",
            " [-0.74722731 -0.08304707  0.03966934 ...  0.10522237  0.70603754\n",
            "   0.24218344]\n",
            " [-0.68514555 -0.18826477  0.06786521 ... -0.14680158 -0.00733655\n",
            "  -0.28709752]\n",
            " [ 1.02809789 -0.44960018  0.21924379 ... -0.14409863 -0.02028014\n",
            "  -0.01910554]]\n"
          ]
        }
      ]
    },
    {
      "cell_type": "code",
      "metadata": {
        "id": "LrUpnR3p9fFB",
        "colab": {
          "base_uri": "https://localhost:8080/"
        },
        "outputId": "1253d0a4-7a83-4fc3-e551-7da8c1f77a83"
      },
      "source": [
        "num_of_pc = len(pca.singular_values_)\n",
        "\n",
        "strTitle = '\\n First %d principal components' %(num_of_pc)\n",
        "print(strTitle)\n",
        "print(pca.components_.T)\n",
        "strTitle = '\\n First %d singular values ' %(num_of_pc)\n",
        "print(strTitle)\n",
        "print(pca.singular_values_.T)\n",
        "strTitle = '\\n Explained Variance Ratio'\n",
        "print(strTitle)\n",
        "print(pca.explained_variance_ratio_.T)\n",
        "strTitle = '\\n Accumulated Explained Variance Ratio'\n",
        "print(strTitle)\n",
        "print(np.cumsum(pca.explained_variance_ratio_.T))"
      ],
      "execution_count": 18,
      "outputs": [
        {
          "output_type": "stream",
          "name": "stdout",
          "text": [
            "\n",
            " First 20 principal components\n",
            "[[ 1.15001140e-02 -1.60187638e-01 -1.54415264e-01 ...  4.92214343e-02\n",
            "   1.09476325e-03 -1.76175085e-02]\n",
            " [-6.03832092e-02  1.18668476e-01  3.04023161e-01 ...  1.24759285e-03\n",
            "  -1.68358530e-02  6.44342904e-02]\n",
            " [-3.20676111e-02  4.66263841e-02  1.08698427e-01 ... -4.94448100e-02\n",
            "   1.34625850e-01  1.04573840e-01]\n",
            " ...\n",
            " [-6.00122879e-05  7.47217295e-03 -3.27886498e-02 ... -5.23425706e-02\n",
            "  -2.89412641e-02  2.07381431e-01]\n",
            " [-9.88497635e-04  1.84858091e-03 -2.50860817e-02 ... -2.38100572e-01\n",
            "  -4.85099719e-02 -1.82220108e-01]\n",
            " [ 2.15096790e-03  9.65821656e-03 -1.80548028e-02 ...  1.90832857e-01\n",
            "   3.73829552e-03  1.50657307e-01]]\n",
            "\n",
            " First 20 singular values \n",
            "[223.74165867 118.36596345 107.1961151  102.43303225  91.47744051\n",
            "  89.30916428  83.35429251  75.66598098  71.08732708  68.59165312\n",
            "  61.58631345  61.33014681  56.36230572  55.50394051  52.23817957\n",
            "  50.58267831  48.73584846  47.53771535  45.55176112  44.29463871]\n",
            "\n",
            " Explained Variance Ratio\n",
            "[0.29855156 0.08355632 0.06853047 0.0625757  0.0499061  0.04756831\n",
            " 0.04143636 0.03414499 0.03013769 0.02805874 0.02262008 0.02243229\n",
            " 0.01894537 0.01837271 0.01627428 0.01525911 0.0141652  0.01347728\n",
            " 0.01237474 0.01170113]\n",
            "\n",
            " Accumulated Explained Variance Ratio\n",
            "[0.29855156 0.38210789 0.45063836 0.51321406 0.56312016 0.61068847\n",
            " 0.65212482 0.68626981 0.71640751 0.74446625 0.76708632 0.78951862\n",
            " 0.80846399 0.8268367  0.84311098 0.85837009 0.87253529 0.88601257\n",
            " 0.89838731 0.91008844]\n"
          ]
        }
      ]
    },
    {
      "cell_type": "markdown",
      "metadata": {
        "id": "ksCx9gBo_i_o"
      },
      "source": [
        "#-[6]. Learning with GradientBoosting ensemble"
      ]
    },
    {
      "cell_type": "markdown",
      "metadata": {
        "id": "Gu_QJ4-EAwCG"
      },
      "source": [
        "### Taking 10-20 min with google colaboratory"
      ]
    },
    {
      "cell_type": "code",
      "metadata": {
        "colab": {
          "base_uri": "https://localhost:8080/"
        },
        "id": "6ZY-Qkx1_lK_",
        "outputId": "af79dcc5-cb85-4fcb-9ab5-e8cc5eeeee79"
      },
      "source": [
        "from sklearn.ensemble import GradientBoostingClassifier\n",
        "\n",
        "max_depth = 20\n",
        "n_estimators = 100\n",
        "learning_rate= 0.2\n",
        "\n",
        "gb_clf = GradientBoostingClassifier(max_depth=max_depth,        \\\n",
        "                                    n_estimators=n_estimators,  \\\n",
        "                                    learning_rate=learning_rate)\n",
        "\n",
        "gb_clf.fit(X_train_scale, Y_train)\n",
        "# gb_clf.fit(X_proy, Y_train) if you want to use PCA"
      ],
      "execution_count": 19,
      "outputs": [
        {
          "output_type": "stream",
          "name": "stderr",
          "text": [
            "/usr/local/lib/python3.7/dist-packages/sklearn/ensemble/_gb.py:494: DataConversionWarning: A column-vector y was passed when a 1d array was expected. Please change the shape of y to (n_samples, ), for example using ravel().\n",
            "  y = column_or_1d(y, warn=True)\n"
          ]
        },
        {
          "output_type": "execute_result",
          "data": {
            "text/plain": [
              "GradientBoostingClassifier(learning_rate=0.2, max_depth=20)"
            ]
          },
          "metadata": {},
          "execution_count": 19
        }
      ]
    },
    {
      "cell_type": "markdown",
      "metadata": {
        "id": "J9xlqpeY_tam"
      },
      "source": [
        "#-[7]. Testing the model with test dataset"
      ]
    },
    {
      "cell_type": "code",
      "metadata": {
        "colab": {
          "base_uri": "https://localhost:8080/"
        },
        "id": "178wmBJm_yti",
        "outputId": "638083ee-9cb3-4ea8-9255-5e1785ad3974"
      },
      "source": [
        "from sklearn.metrics import accuracy_score\n",
        "from sklearn.metrics import confusion_matrix, classification_report\n",
        "\n",
        "# Y_pred = gb_clf.predict(gb_clf.fit(scaler.transform(X_valid))) if you want to use PCA\n",
        "Y_pred = gb_clf.predict(scaler.transform(X_valid))\n",
        "cm = confusion_matrix(Y_valid, Y_pred)\n",
        "cr = classification_report(Y_valid, Y_pred)\n",
        "\n",
        "accuracy = accuracy_score(Y_valid, Y_pred)\n",
        "\n",
        "print(\"accuracy = \",accuracy)\n",
        "print()\n",
        "print(cm)\n",
        "print()\n",
        "print(cr)"
      ],
      "execution_count": 20,
      "outputs": [
        {
          "output_type": "stream",
          "name": "stdout",
          "text": [
            "accuracy =  0.9339099006066864\n",
            "\n",
            "[[ 7889   556     2     0     4     1    22]\n",
            " [  378 10846    28     2    39    31     8]\n",
            " [    0    39  1327    23     6    35     0]\n",
            " [    0     1    24    76     0     9     0]\n",
            " [    5   107     2     0   262     4     0]\n",
            " [    0    48    81     6     0   560     0]\n",
            " [   67     8     0     0     0     0   745]]\n",
            "\n",
            "              precision    recall  f1-score   support\n",
            "\n",
            "           1       0.95      0.93      0.94      8474\n",
            "           2       0.93      0.96      0.95     11332\n",
            "           3       0.91      0.93      0.92      1430\n",
            "           4       0.71      0.69      0.70       110\n",
            "           5       0.84      0.69      0.76       380\n",
            "           6       0.88      0.81      0.84       695\n",
            "           7       0.96      0.91      0.93       820\n",
            "\n",
            "    accuracy                           0.93     23241\n",
            "   macro avg       0.88      0.84      0.86     23241\n",
            "weighted avg       0.93      0.93      0.93     23241\n",
            "\n"
          ]
        }
      ]
    },
    {
      "cell_type": "markdown",
      "metadata": {
        "id": "4078p84W_Tao"
      },
      "source": [
        "#-[8]. Generating \"reto3_Ypred.csv\" with the model"
      ]
    },
    {
      "cell_type": "markdown",
      "metadata": {
        "id": "SXu4loft_yqB"
      },
      "source": [
        "### Loading the dataset to be predicted"
      ]
    },
    {
      "cell_type": "code",
      "metadata": {
        "colab": {
          "base_uri": "https://localhost:8080/"
        },
        "id": "HQDFpbfV_hOe",
        "outputId": "7f8e787a-7190-42e7-f838-f19ef97678f7"
      },
      "source": [
        "X_test_set = pd.read_csv('Datasets/reto3_testX.csv')\n",
        "\n",
        "print(\"Loaded !\")"
      ],
      "execution_count": 21,
      "outputs": [
        {
          "output_type": "stream",
          "name": "stdout",
          "text": [
            "Loaded !\n"
          ]
        }
      ]
    },
    {
      "cell_type": "markdown",
      "metadata": {
        "id": "kWOqbBSE_4am"
      },
      "source": [
        "### Scaling X_test_set dataset"
      ]
    },
    {
      "cell_type": "code",
      "metadata": {
        "id": "uOpAzMpcAFEN"
      },
      "source": [
        "X_test_set_scale = scaler.transform(X_test_set)\n",
        "#X_test_set_scale = gb_clf.fit(scaler.transform(X_test_set)) if you want to use PCA"
      ],
      "execution_count": 22,
      "outputs": []
    },
    {
      "cell_type": "code",
      "metadata": {
        "colab": {
          "base_uri": "https://localhost:8080/",
          "height": 298
        },
        "id": "HtH8jCSAATX0",
        "outputId": "47169305-406c-480a-babe-b6033624255d"
      },
      "source": [
        "# Verify scale is good\n",
        "\n",
        "fig, axes = plt.subplots(1,4)\n",
        "axes[0].scatter(X_test_set['altitud'], X_test_set['azimut'], X_test_set['inclinacion'], X_test_set['DH_agua'])\n",
        "axes[0].set_title(\"Original 1\")\n",
        "axes[1].scatter(X_test_set['DV_agua'], X_test_set['sombra_3pm'], X_test_set['Reserva_4'], X_test_set['reserva_2'])\n",
        "axes[1].set_title(\"Original 2\")\n",
        "axes[2].scatter(X_test_set_scale[:, 0], X_test_set_scale[:, 1], X_test_set_scale[:, 2], X_test_set_scale[:, 3])\n",
        "axes[2].set_title(\"MinMax 1\")\n",
        "axes[3].scatter(X_test_set_scale[:, 4], X_test_set_scale[:, 8], X_test_set_scale[:, 13], X_test_set_scale[:, 11])\n",
        "axes[3].set_title(\"MinMax 2\")\n",
        "print(\"Checking if the scaling as been well done\")\n",
        "plt.show()"
      ],
      "execution_count": 23,
      "outputs": [
        {
          "output_type": "stream",
          "name": "stdout",
          "text": [
            "Checking if the scaling as been well done\n"
          ]
        },
        {
          "output_type": "display_data",
          "data": {
            "image/png": "[encoded data removed]",
            "text/plain": [
              "<Figure size 432x288 with 4 Axes>"
            ]
          },
          "metadata": {
            "needs_background": "light"
          }
        }
      ]
    },
    {
      "cell_type": "markdown",
      "metadata": {
        "id": "M9w1p2Ce_-78"
      },
      "source": [
        "### Predict the values"
      ]
    },
    {
      "cell_type": "code",
      "metadata": {
        "id": "9X1qEKZRAtg-"
      },
      "source": [
        "Y_pred_final = gb_clf.predict(X_test_set_scale)"
      ],
      "execution_count": 24,
      "outputs": []
    },
    {
      "cell_type": "markdown",
      "metadata": {
        "id": "AnQwuh6WAAT1"
      },
      "source": [
        "### Generating the reto3_Ypred.csv file"
      ]
    },
    {
      "cell_type": "code",
      "metadata": {
        "id": "JwMqi6uOBWgY"
      },
      "source": [
        "Y_pred_final = np.array(Y_pred_final)\n",
        "# --- Save prediction in .csv file.\n",
        "np.savetxt('Datasets/reto3_Ypred.csv', Y_pred_final, fmt='%i', delimiter=',')"
      ],
      "execution_count": 25,
      "outputs": []
    },
    {
      "cell_type": "markdown",
      "metadata": {
        "id": "FuQ7eR1ZEniK"
      },
      "source": [
        "#-[9]. Saving model with pickle"
      ]
    },
    {
      "cell_type": "code",
      "metadata": {
        "id": "THxWklH4Ettl"
      },
      "source": [
        "import pickle\n",
        "from datetime import datetime\n",
        "\n",
        "now = datetime.now()\n",
        "date = now.strftime(\"%d-%m-%H:%M:%S\")\n",
        "\n",
        "filename = \"Model_\"\n",
        "path_file = filename + date + \".sav\"\n",
        "\n",
        "pickle.dump(gb_clf, open(path_file, \"wb\"))"
      ],
      "execution_count": 26,
      "outputs": []
    }
  ]
}