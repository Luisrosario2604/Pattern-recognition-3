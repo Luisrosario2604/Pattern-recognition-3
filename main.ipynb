{
  "nbformat": 4,
  "nbformat_minor": 0,
  "metadata": {
    "colab": {
      "name": "reto3.ipynb",
      "provenance": [],
      "collapsed_sections": [
        "O7klDkaZwI0M"
      ]
    },
    "kernelspec": {
      "display_name": "Python 3",
      "name": "python3"
    },
    "language_info": {
      "name": "python"
    }
  },
  "cells": [
    {
      "cell_type": "markdown",
      "metadata": {
        "id": "SQe7uyWi3PYx"
      },
      "source": [
        "#-[0]. {Optional} Load google drive for csv"
      ]
    },
    {
      "cell_type": "code",
      "metadata": {
        "colab": {
          "base_uri": "https://localhost:8080/"
        },
        "id": "0WTUjIhbiU6C",
        "outputId": "7e262a44-9cf6-40b8-a28b-5a293992357c"
      },
      "source": [
        "from google.colab import drive\n",
        "drive.mount('/content/drive')"
      ],
      "execution_count": 2,
      "outputs": [
        {
          "output_type": "stream",
          "name": "stdout",
          "text": [
            "Mounted at /content/drive\n"
          ]
        }
      ]
    },
    {
      "cell_type": "code",
      "metadata": {
        "id": "VOVgXvcmi0Dd",
        "colab": {
          "base_uri": "https://localhost:8080/"
        },
        "outputId": "d1cbe95a-9ac2-48bf-a3c3-9ae025602f03"
      },
      "source": [
        "%cd /content/drive/My Drive/URJC/Cours/'Reconocimiento patrones'\n",
        "\n",
        "!ls"
      ],
      "execution_count": 4,
      "outputs": [
        {
          "output_type": "stream",
          "name": "stdout",
          "text": [
            "/content/drive/My Drive/URJC/Cours/Reconocimiento patrones\n",
            "'Cour 1'\t     Datasets\n",
            "'Cour 10 (21oct)'   'Guía de repaso (Respuestas).gdoc'\n",
            "'cour 12 (28 oct)'   ml_map.png\n",
            "'Cour 2'\t     notas-reco-patrones.pdf\n",
            "'cour 3 (30sept)'   '[Perso] de Guía de repaso (Respuestas).gdoc'\n",
            "'cour 4'\t     Reto1_2021.pdf\n",
            "'cour 5 (4oct)'      Reto2_2021.pdf\n",
            "'cour 6 (7oct)'\n"
          ]
        }
      ]
    },
    {
      "cell_type": "markdown",
      "metadata": {
        "id": "GwW4hXZj0g5C"
      },
      "source": [
        "#-[1]. Importing package needed\n"
      ]
    },
    {
      "cell_type": "code",
      "metadata": {
        "id": "X6Pu1giMilKn"
      },
      "source": [
        "import sklearn\n",
        "import numpy as np\n",
        "import pandas as pd\n",
        "import seaborn as sb\n",
        "\n",
        "%matplotlib inline\n",
        "from matplotlib import pyplot as plt\n",
        "\n",
        "# seed = 1234 #<- random generator seed (0 to get randomness)\n",
        "seed = 0"
      ],
      "execution_count": 5,
      "outputs": []
    },
    {
      "cell_type": "markdown",
      "metadata": {
        "id": "4MDM_6Sk0pRf"
      },
      "source": [
        "#-[2]. Load data from CSV : X_all_set (features) and Y_all_set (labels)"
      ]
    },
    {
      "cell_type": "code",
      "metadata": {
        "colab": {
          "base_uri": "https://localhost:8080/"
        },
        "id": "EWNvRSorj8tR",
        "outputId": "380703c9-c968-461b-caf9-532441712bd9"
      },
      "source": [
        "X_all_set = pd.read_csv('Datasets/reto3_trainX.csv')\n",
        "Y_all_set = pd.read_csv('Datasets/reto3_trainY.csv')\n",
        "\n",
        "print(\"Features shape : \" + str(X_all_set.shape))\n",
        "print(\"Label shape : \" + str(Y_all_set.shape))"
      ],
      "execution_count": 8,
      "outputs": [
        {
          "output_type": "stream",
          "name": "stdout",
          "text": [
            "Features shape : (116202, 54)\n",
            "Label shape : (116202, 1)\n"
          ]
        }
      ]
    },
    {
      "cell_type": "code",
      "metadata": {
        "id": "ijrhiS8ekRpi",
        "colab": {
          "base_uri": "https://localhost:8080/",
          "height": 224
        },
        "outputId": "0e7b6f7c-e60f-4e2d-9c64-83d459e02f86"
      },
      "source": [
        "pd.set_option(\"display.max_columns\", None)\n",
        "X_all_set.head()"
      ],
      "execution_count": 9,
      "outputs": [
        {
          "output_type": "execute_result",
          "data": {
            "text/html": [
              "<div>\n",
              "<style scoped>\n",
              "    .dataframe tbody tr th:only-of-type {\n",
              "        vertical-align: middle;\n",
              "    }\n",
              "\n",
              "    .dataframe tbody tr th {\n",
              "        vertical-align: top;\n",
              "    }\n",
              "\n",
              "    .dataframe thead th {\n",
              "        text-align: right;\n",
              "    }\n",
              "</style>\n",
              "<table border=\"1\" class=\"dataframe\">\n",
              "  <thead>\n",
              "    <tr style=\"text-align: right;\">\n",
              "      <th></th>\n",
              "      <th>altitud</th>\n",
              "      <th>azimut</th>\n",
              "      <th>inclinacion</th>\n",
              "      <th>DH_agua</th>\n",
              "      <th>DV_agua</th>\n",
              "      <th>DH_camino</th>\n",
              "      <th>sombra_9am</th>\n",
              "      <th>sombra_12pm</th>\n",
              "      <th>sombra_3pm</th>\n",
              "      <th>DH_fuego</th>\n",
              "      <th>reserva_1</th>\n",
              "      <th>reserva_2</th>\n",
              "      <th>reserva_3</th>\n",
              "      <th>Reserva_4</th>\n",
              "      <th>t1</th>\n",
              "      <th>t2</th>\n",
              "      <th>t3</th>\n",
              "      <th>t4</th>\n",
              "      <th>t5</th>\n",
              "      <th>t6</th>\n",
              "      <th>t7</th>\n",
              "      <th>t8</th>\n",
              "      <th>t9</th>\n",
              "      <th>t10</th>\n",
              "      <th>t11</th>\n",
              "      <th>t12</th>\n",
              "      <th>t13</th>\n",
              "      <th>t14</th>\n",
              "      <th>t15</th>\n",
              "      <th>t16</th>\n",
              "      <th>t17</th>\n",
              "      <th>t18</th>\n",
              "      <th>t19</th>\n",
              "      <th>t20</th>\n",
              "      <th>t21</th>\n",
              "      <th>t22</th>\n",
              "      <th>t23</th>\n",
              "      <th>t24</th>\n",
              "      <th>t25</th>\n",
              "      <th>t26</th>\n",
              "      <th>t27</th>\n",
              "      <th>t28</th>\n",
              "      <th>t29</th>\n",
              "      <th>t30</th>\n",
              "      <th>t31</th>\n",
              "      <th>t32</th>\n",
              "      <th>t33</th>\n",
              "      <th>t34</th>\n",
              "      <th>t35</th>\n",
              "      <th>t36</th>\n",
              "      <th>t37</th>\n",
              "      <th>t38</th>\n",
              "      <th>t39</th>\n",
              "      <th>t40</th>\n",
              "    </tr>\n",
              "  </thead>\n",
              "  <tbody>\n",
              "    <tr>\n",
              "      <th>0</th>\n",
              "      <td>3351</td>\n",
              "      <td>354</td>\n",
              "      <td>19</td>\n",
              "      <td>450</td>\n",
              "      <td>95</td>\n",
              "      <td>1064</td>\n",
              "      <td>185</td>\n",
              "      <td>203</td>\n",
              "      <td>153</td>\n",
              "      <td>711</td>\n",
              "      <td>1</td>\n",
              "      <td>0</td>\n",
              "      <td>0</td>\n",
              "      <td>0</td>\n",
              "      <td>0</td>\n",
              "      <td>0</td>\n",
              "      <td>0</td>\n",
              "      <td>0</td>\n",
              "      <td>0</td>\n",
              "      <td>0</td>\n",
              "      <td>0</td>\n",
              "      <td>0</td>\n",
              "      <td>0</td>\n",
              "      <td>0</td>\n",
              "      <td>0</td>\n",
              "      <td>0</td>\n",
              "      <td>0</td>\n",
              "      <td>0</td>\n",
              "      <td>0</td>\n",
              "      <td>0</td>\n",
              "      <td>0</td>\n",
              "      <td>0</td>\n",
              "      <td>0</td>\n",
              "      <td>0</td>\n",
              "      <td>0</td>\n",
              "      <td>0</td>\n",
              "      <td>0</td>\n",
              "      <td>0</td>\n",
              "      <td>0</td>\n",
              "      <td>0</td>\n",
              "      <td>0</td>\n",
              "      <td>0</td>\n",
              "      <td>0</td>\n",
              "      <td>0</td>\n",
              "      <td>0</td>\n",
              "      <td>0</td>\n",
              "      <td>0</td>\n",
              "      <td>0</td>\n",
              "      <td>0</td>\n",
              "      <td>0</td>\n",
              "      <td>0</td>\n",
              "      <td>0</td>\n",
              "      <td>1</td>\n",
              "      <td>0</td>\n",
              "    </tr>\n",
              "    <tr>\n",
              "      <th>1</th>\n",
              "      <td>2995</td>\n",
              "      <td>84</td>\n",
              "      <td>7</td>\n",
              "      <td>481</td>\n",
              "      <td>30</td>\n",
              "      <td>5154</td>\n",
              "      <td>231</td>\n",
              "      <td>227</td>\n",
              "      <td>129</td>\n",
              "      <td>5488</td>\n",
              "      <td>1</td>\n",
              "      <td>0</td>\n",
              "      <td>0</td>\n",
              "      <td>0</td>\n",
              "      <td>0</td>\n",
              "      <td>0</td>\n",
              "      <td>0</td>\n",
              "      <td>0</td>\n",
              "      <td>0</td>\n",
              "      <td>0</td>\n",
              "      <td>0</td>\n",
              "      <td>0</td>\n",
              "      <td>0</td>\n",
              "      <td>0</td>\n",
              "      <td>0</td>\n",
              "      <td>0</td>\n",
              "      <td>0</td>\n",
              "      <td>0</td>\n",
              "      <td>0</td>\n",
              "      <td>0</td>\n",
              "      <td>0</td>\n",
              "      <td>0</td>\n",
              "      <td>1</td>\n",
              "      <td>0</td>\n",
              "      <td>0</td>\n",
              "      <td>0</td>\n",
              "      <td>0</td>\n",
              "      <td>0</td>\n",
              "      <td>0</td>\n",
              "      <td>0</td>\n",
              "      <td>0</td>\n",
              "      <td>0</td>\n",
              "      <td>0</td>\n",
              "      <td>0</td>\n",
              "      <td>0</td>\n",
              "      <td>0</td>\n",
              "      <td>0</td>\n",
              "      <td>0</td>\n",
              "      <td>0</td>\n",
              "      <td>0</td>\n",
              "      <td>0</td>\n",
              "      <td>0</td>\n",
              "      <td>0</td>\n",
              "      <td>0</td>\n",
              "    </tr>\n",
              "    <tr>\n",
              "      <th>2</th>\n",
              "      <td>2884</td>\n",
              "      <td>72</td>\n",
              "      <td>25</td>\n",
              "      <td>210</td>\n",
              "      <td>-45</td>\n",
              "      <td>466</td>\n",
              "      <td>239</td>\n",
              "      <td>183</td>\n",
              "      <td>60</td>\n",
              "      <td>2123</td>\n",
              "      <td>1</td>\n",
              "      <td>0</td>\n",
              "      <td>0</td>\n",
              "      <td>0</td>\n",
              "      <td>0</td>\n",
              "      <td>0</td>\n",
              "      <td>0</td>\n",
              "      <td>0</td>\n",
              "      <td>0</td>\n",
              "      <td>0</td>\n",
              "      <td>0</td>\n",
              "      <td>0</td>\n",
              "      <td>0</td>\n",
              "      <td>0</td>\n",
              "      <td>0</td>\n",
              "      <td>0</td>\n",
              "      <td>0</td>\n",
              "      <td>0</td>\n",
              "      <td>0</td>\n",
              "      <td>0</td>\n",
              "      <td>0</td>\n",
              "      <td>0</td>\n",
              "      <td>0</td>\n",
              "      <td>0</td>\n",
              "      <td>0</td>\n",
              "      <td>0</td>\n",
              "      <td>0</td>\n",
              "      <td>0</td>\n",
              "      <td>0</td>\n",
              "      <td>0</td>\n",
              "      <td>0</td>\n",
              "      <td>0</td>\n",
              "      <td>0</td>\n",
              "      <td>1</td>\n",
              "      <td>0</td>\n",
              "      <td>0</td>\n",
              "      <td>0</td>\n",
              "      <td>0</td>\n",
              "      <td>0</td>\n",
              "      <td>0</td>\n",
              "      <td>0</td>\n",
              "      <td>0</td>\n",
              "      <td>0</td>\n",
              "      <td>0</td>\n",
              "    </tr>\n",
              "    <tr>\n",
              "      <th>3</th>\n",
              "      <td>3139</td>\n",
              "      <td>76</td>\n",
              "      <td>11</td>\n",
              "      <td>301</td>\n",
              "      <td>58</td>\n",
              "      <td>1368</td>\n",
              "      <td>234</td>\n",
              "      <td>220</td>\n",
              "      <td>117</td>\n",
              "      <td>3282</td>\n",
              "      <td>0</td>\n",
              "      <td>0</td>\n",
              "      <td>1</td>\n",
              "      <td>0</td>\n",
              "      <td>0</td>\n",
              "      <td>0</td>\n",
              "      <td>0</td>\n",
              "      <td>0</td>\n",
              "      <td>0</td>\n",
              "      <td>0</td>\n",
              "      <td>0</td>\n",
              "      <td>0</td>\n",
              "      <td>0</td>\n",
              "      <td>0</td>\n",
              "      <td>0</td>\n",
              "      <td>0</td>\n",
              "      <td>0</td>\n",
              "      <td>0</td>\n",
              "      <td>0</td>\n",
              "      <td>0</td>\n",
              "      <td>0</td>\n",
              "      <td>0</td>\n",
              "      <td>0</td>\n",
              "      <td>0</td>\n",
              "      <td>0</td>\n",
              "      <td>0</td>\n",
              "      <td>0</td>\n",
              "      <td>0</td>\n",
              "      <td>0</td>\n",
              "      <td>0</td>\n",
              "      <td>0</td>\n",
              "      <td>0</td>\n",
              "      <td>0</td>\n",
              "      <td>0</td>\n",
              "      <td>0</td>\n",
              "      <td>0</td>\n",
              "      <td>1</td>\n",
              "      <td>0</td>\n",
              "      <td>0</td>\n",
              "      <td>0</td>\n",
              "      <td>0</td>\n",
              "      <td>0</td>\n",
              "      <td>0</td>\n",
              "      <td>0</td>\n",
              "    </tr>\n",
              "    <tr>\n",
              "      <th>4</th>\n",
              "      <td>3018</td>\n",
              "      <td>312</td>\n",
              "      <td>17</td>\n",
              "      <td>30</td>\n",
              "      <td>10</td>\n",
              "      <td>1719</td>\n",
              "      <td>172</td>\n",
              "      <td>225</td>\n",
              "      <td>193</td>\n",
              "      <td>1961</td>\n",
              "      <td>1</td>\n",
              "      <td>0</td>\n",
              "      <td>0</td>\n",
              "      <td>0</td>\n",
              "      <td>0</td>\n",
              "      <td>0</td>\n",
              "      <td>0</td>\n",
              "      <td>0</td>\n",
              "      <td>0</td>\n",
              "      <td>0</td>\n",
              "      <td>0</td>\n",
              "      <td>0</td>\n",
              "      <td>0</td>\n",
              "      <td>0</td>\n",
              "      <td>0</td>\n",
              "      <td>0</td>\n",
              "      <td>0</td>\n",
              "      <td>0</td>\n",
              "      <td>0</td>\n",
              "      <td>0</td>\n",
              "      <td>0</td>\n",
              "      <td>0</td>\n",
              "      <td>0</td>\n",
              "      <td>0</td>\n",
              "      <td>0</td>\n",
              "      <td>0</td>\n",
              "      <td>0</td>\n",
              "      <td>0</td>\n",
              "      <td>0</td>\n",
              "      <td>0</td>\n",
              "      <td>0</td>\n",
              "      <td>0</td>\n",
              "      <td>1</td>\n",
              "      <td>0</td>\n",
              "      <td>0</td>\n",
              "      <td>0</td>\n",
              "      <td>0</td>\n",
              "      <td>0</td>\n",
              "      <td>0</td>\n",
              "      <td>0</td>\n",
              "      <td>0</td>\n",
              "      <td>0</td>\n",
              "      <td>0</td>\n",
              "      <td>0</td>\n",
              "    </tr>\n",
              "  </tbody>\n",
              "</table>\n",
              "</div>"
            ],
            "text/plain": [
              "   altitud  azimut  inclinacion  DH_agua  DV_agua  DH_camino  sombra_9am  \\\n",
              "0     3351     354           19      450       95       1064         185   \n",
              "1     2995      84            7      481       30       5154         231   \n",
              "2     2884      72           25      210      -45        466         239   \n",
              "3     3139      76           11      301       58       1368         234   \n",
              "4     3018     312           17       30       10       1719         172   \n",
              "\n",
              "   sombra_12pm  sombra_3pm  DH_fuego  reserva_1  reserva_2  reserva_3  \\\n",
              "0          203         153       711          1          0          0   \n",
              "1          227         129      5488          1          0          0   \n",
              "2          183          60      2123          1          0          0   \n",
              "3          220         117      3282          0          0          1   \n",
              "4          225         193      1961          1          0          0   \n",
              "\n",
              "   Reserva_4  t1  t2  t3  t4  t5  t6  t7  t8  t9  t10  t11  t12  t13  t14  \\\n",
              "0          0   0   0   0   0   0   0   0   0   0    0    0    0    0    0   \n",
              "1          0   0   0   0   0   0   0   0   0   0    0    0    0    0    0   \n",
              "2          0   0   0   0   0   0   0   0   0   0    0    0    0    0    0   \n",
              "3          0   0   0   0   0   0   0   0   0   0    0    0    0    0    0   \n",
              "4          0   0   0   0   0   0   0   0   0   0    0    0    0    0    0   \n",
              "\n",
              "   t15  t16  t17  t18  t19  t20  t21  t22  t23  t24  t25  t26  t27  t28  t29  \\\n",
              "0    0    0    0    0    0    0    0    0    0    0    0    0    0    0    0   \n",
              "1    0    0    0    0    1    0    0    0    0    0    0    0    0    0    0   \n",
              "2    0    0    0    0    0    0    0    0    0    0    0    0    0    0    0   \n",
              "3    0    0    0    0    0    0    0    0    0    0    0    0    0    0    0   \n",
              "4    0    0    0    0    0    0    0    0    0    0    0    0    0    0    1   \n",
              "\n",
              "   t30  t31  t32  t33  t34  t35  t36  t37  t38  t39  t40  \n",
              "0    0    0    0    0    0    0    0    0    0    1    0  \n",
              "1    0    0    0    0    0    0    0    0    0    0    0  \n",
              "2    1    0    0    0    0    0    0    0    0    0    0  \n",
              "3    0    0    0    1    0    0    0    0    0    0    0  \n",
              "4    0    0    0    0    0    0    0    0    0    0    0  "
            ]
          },
          "metadata": {},
          "execution_count": 9
        }
      ]
    },
    {
      "cell_type": "code",
      "metadata": {
        "colab": {
          "base_uri": "https://localhost:8080/",
          "height": 204
        },
        "id": "IOIU1UlpsZZR",
        "outputId": "6c4e0fb5-daa0-47dd-de67-f5f49e63fd5a"
      },
      "source": [
        "Y_all_set.head()"
      ],
      "execution_count": 10,
      "outputs": [
        {
          "output_type": "execute_result",
          "data": {
            "text/html": [
              "<div>\n",
              "<style scoped>\n",
              "    .dataframe tbody tr th:only-of-type {\n",
              "        vertical-align: middle;\n",
              "    }\n",
              "\n",
              "    .dataframe tbody tr th {\n",
              "        vertical-align: top;\n",
              "    }\n",
              "\n",
              "    .dataframe thead th {\n",
              "        text-align: right;\n",
              "    }\n",
              "</style>\n",
              "<table border=\"1\" class=\"dataframe\">\n",
              "  <thead>\n",
              "    <tr style=\"text-align: right;\">\n",
              "      <th></th>\n",
              "      <th>tipo_bosque</th>\n",
              "    </tr>\n",
              "  </thead>\n",
              "  <tbody>\n",
              "    <tr>\n",
              "      <th>0</th>\n",
              "      <td>1</td>\n",
              "    </tr>\n",
              "    <tr>\n",
              "      <th>1</th>\n",
              "      <td>2</td>\n",
              "    </tr>\n",
              "    <tr>\n",
              "      <th>2</th>\n",
              "      <td>2</td>\n",
              "    </tr>\n",
              "    <tr>\n",
              "      <th>3</th>\n",
              "      <td>1</td>\n",
              "    </tr>\n",
              "    <tr>\n",
              "      <th>4</th>\n",
              "      <td>1</td>\n",
              "    </tr>\n",
              "  </tbody>\n",
              "</table>\n",
              "</div>"
            ],
            "text/plain": [
              "   tipo_bosque\n",
              "0            1\n",
              "1            2\n",
              "2            2\n",
              "3            1\n",
              "4            1"
            ]
          },
          "metadata": {},
          "execution_count": 10
        }
      ]
    },
    {
      "cell_type": "code",
      "metadata": {
        "colab": {
          "base_uri": "https://localhost:8080/"
        },
        "id": "PeAr9cLyrtwt",
        "outputId": "1f64342c-3a33-46db-e1d6-6e7c13e87afe"
      },
      "source": [
        "names = X_all_set.columns\n",
        "for i in names:\n",
        "  print(i, end='   ')"
      ],
      "execution_count": 11,
      "outputs": [
        {
          "output_type": "stream",
          "name": "stdout",
          "text": [
            "altitud   azimut   inclinacion   DH_agua   DV_agua   DH_camino   sombra_9am   sombra_12pm   sombra_3pm   DH_fuego   reserva_1   reserva_2   reserva_3   Reserva_4   t1   t2   t3   t4   t5   t6   t7   t8   t9   t10   t11   t12   t13   t14   t15   t16   t17   t18   t19   t20   t21   t22   t23   t24   t25   t26   t27   t28   t29   t30   t31   t32   t33   t34   t35   t36   t37   t38   t39   t40   "
          ]
        }
      ]
    },
    {
      "cell_type": "code",
      "metadata": {
        "id": "X6cZYtmQaqIF",
        "colab": {
          "base_uri": "https://localhost:8080/"
        },
        "outputId": "2da4e820-5126-4ade-8faf-6fdbc7da259c"
      },
      "source": [
        "Y_all_set.value_counts()"
      ],
      "execution_count": 12,
      "outputs": [
        {
          "output_type": "execute_result",
          "data": {
            "text/plain": [
              "tipo_bosque\n",
              "2              56660\n",
              "1              42368\n",
              "3               7151\n",
              "7               4102\n",
              "6               3473\n",
              "5               1899\n",
              "4                549\n",
              "dtype: int64"
            ]
          },
          "metadata": {},
          "execution_count": 12
        }
      ]
    },
    {
      "cell_type": "markdown",
      "metadata": {
        "id": "3Z5wmHtL00dV"
      },
      "source": [
        "#-[3]. Split X_all_set and y_all_set into TRAIN and TEST in a single Stratified split"
      ]
    },
    {
      "cell_type": "markdown",
      "metadata": {
        "id": "tTaqV3Ad5IuN"
      },
      "source": [
        "### Parameters\n",
        "\n",
        "X is the dataframe with examples (rows) and attributes (columns)\n",
        "\n",
        "Y is the dataframe with labels\n",
        "\n",
        "test_size is the percentage of X separated; default is 0.2\n",
        "\n",
        "random_state is a seed for pseudorandom generation (0 to get randomness)\n",
        "\n",
        "### Return\n",
        "\n",
        "X_train, Y_train = dataframes of (1-test_size)% of the X and Y\n",
        "\n",
        "X_test, Y_test = dataframes of test_size% of the X and Y"
      ]
    },
    {
      "cell_type": "code",
      "metadata": {
        "id": "PSN4XGbty3N-"
      },
      "source": [
        "def single_stratified_split(X,Y,test_size=.2, random_state=0):\n",
        "    from sklearn.model_selection import StratifiedShuffleSplit\n",
        "    if random_state != 0:\n",
        "      splitter = StratifiedShuffleSplit(n_splits=1, test_size=test_size, random_state=random_state)\n",
        "    else:\n",
        "      splitter = StratifiedShuffleSplit(n_splits=1, test_size=test_size)\n",
        "    split_ix = splitter.split(X,Y)\n",
        "    for train_ix, test_ix in split_ix:\n",
        "        X_train = X.loc[train_ix].reset_index(drop=True)\n",
        "        Y_train = Y.loc[train_ix].reset_index(drop=True)\n",
        "        X_test  = X.loc[test_ix].reset_index(drop=True)\n",
        "        Y_test  = Y.loc[test_ix].reset_index(drop=True)\n",
        "    return X_train, Y_train, X_test, Y_test"
      ],
      "execution_count": 13,
      "outputs": []
    },
    {
      "cell_type": "markdown",
      "metadata": {
        "id": "joNPMyuA5f6h"
      },
      "source": [
        "### Spliting the dataset"
      ]
    },
    {
      "cell_type": "code",
      "metadata": {
        "id": "BuQ1WffZlkZS"
      },
      "source": [
        "valid_size = 0.2\n",
        "X_train, Y_train, X_valid, Y_valid = \\\n",
        "   single_stratified_split( X_all_set, Y_all_set, test_size=valid_size, random_state=seed)"
      ],
      "execution_count": 14,
      "outputs": []
    },
    {
      "cell_type": "markdown",
      "metadata": {
        "id": "KF0NnW5R1Eww"
      },
      "source": [
        "#-[4]. Fit a scaler to [0,1]"
      ]
    },
    {
      "cell_type": "code",
      "metadata": {
        "id": "bmv6U4JF3Vj_",
        "colab": {
          "base_uri": "https://localhost:8080/",
          "height": 224
        },
        "outputId": "53458541-3d27-4477-a1db-6d28a98d77c2"
      },
      "source": [
        "X_train.head()"
      ],
      "execution_count": 15,
      "outputs": [
        {
          "output_type": "execute_result",
          "data": {
            "text/html": [
              "<div>\n",
              "<style scoped>\n",
              "    .dataframe tbody tr th:only-of-type {\n",
              "        vertical-align: middle;\n",
              "    }\n",
              "\n",
              "    .dataframe tbody tr th {\n",
              "        vertical-align: top;\n",
              "    }\n",
              "\n",
              "    .dataframe thead th {\n",
              "        text-align: right;\n",
              "    }\n",
              "</style>\n",
              "<table border=\"1\" class=\"dataframe\">\n",
              "  <thead>\n",
              "    <tr style=\"text-align: right;\">\n",
              "      <th></th>\n",
              "      <th>altitud</th>\n",
              "      <th>azimut</th>\n",
              "      <th>inclinacion</th>\n",
              "      <th>DH_agua</th>\n",
              "      <th>DV_agua</th>\n",
              "      <th>DH_camino</th>\n",
              "      <th>sombra_9am</th>\n",
              "      <th>sombra_12pm</th>\n",
              "      <th>sombra_3pm</th>\n",
              "      <th>DH_fuego</th>\n",
              "      <th>reserva_1</th>\n",
              "      <th>reserva_2</th>\n",
              "      <th>reserva_3</th>\n",
              "      <th>Reserva_4</th>\n",
              "      <th>t1</th>\n",
              "      <th>t2</th>\n",
              "      <th>t3</th>\n",
              "      <th>t4</th>\n",
              "      <th>t5</th>\n",
              "      <th>t6</th>\n",
              "      <th>t7</th>\n",
              "      <th>t8</th>\n",
              "      <th>t9</th>\n",
              "      <th>t10</th>\n",
              "      <th>t11</th>\n",
              "      <th>t12</th>\n",
              "      <th>t13</th>\n",
              "      <th>t14</th>\n",
              "      <th>t15</th>\n",
              "      <th>t16</th>\n",
              "      <th>t17</th>\n",
              "      <th>t18</th>\n",
              "      <th>t19</th>\n",
              "      <th>t20</th>\n",
              "      <th>t21</th>\n",
              "      <th>t22</th>\n",
              "      <th>t23</th>\n",
              "      <th>t24</th>\n",
              "      <th>t25</th>\n",
              "      <th>t26</th>\n",
              "      <th>t27</th>\n",
              "      <th>t28</th>\n",
              "      <th>t29</th>\n",
              "      <th>t30</th>\n",
              "      <th>t31</th>\n",
              "      <th>t32</th>\n",
              "      <th>t33</th>\n",
              "      <th>t34</th>\n",
              "      <th>t35</th>\n",
              "      <th>t36</th>\n",
              "      <th>t37</th>\n",
              "      <th>t38</th>\n",
              "      <th>t39</th>\n",
              "      <th>t40</th>\n",
              "    </tr>\n",
              "  </thead>\n",
              "  <tbody>\n",
              "    <tr>\n",
              "      <th>0</th>\n",
              "      <td>2975</td>\n",
              "      <td>144</td>\n",
              "      <td>4</td>\n",
              "      <td>0</td>\n",
              "      <td>0</td>\n",
              "      <td>1504</td>\n",
              "      <td>226</td>\n",
              "      <td>239</td>\n",
              "      <td>147</td>\n",
              "      <td>1917</td>\n",
              "      <td>0</td>\n",
              "      <td>0</td>\n",
              "      <td>1</td>\n",
              "      <td>0</td>\n",
              "      <td>0</td>\n",
              "      <td>0</td>\n",
              "      <td>0</td>\n",
              "      <td>0</td>\n",
              "      <td>0</td>\n",
              "      <td>0</td>\n",
              "      <td>0</td>\n",
              "      <td>0</td>\n",
              "      <td>0</td>\n",
              "      <td>0</td>\n",
              "      <td>0</td>\n",
              "      <td>0</td>\n",
              "      <td>0</td>\n",
              "      <td>0</td>\n",
              "      <td>0</td>\n",
              "      <td>0</td>\n",
              "      <td>0</td>\n",
              "      <td>0</td>\n",
              "      <td>0</td>\n",
              "      <td>0</td>\n",
              "      <td>0</td>\n",
              "      <td>0</td>\n",
              "      <td>0</td>\n",
              "      <td>0</td>\n",
              "      <td>0</td>\n",
              "      <td>0</td>\n",
              "      <td>0</td>\n",
              "      <td>0</td>\n",
              "      <td>0</td>\n",
              "      <td>0</td>\n",
              "      <td>0</td>\n",
              "      <td>1</td>\n",
              "      <td>0</td>\n",
              "      <td>0</td>\n",
              "      <td>0</td>\n",
              "      <td>0</td>\n",
              "      <td>0</td>\n",
              "      <td>0</td>\n",
              "      <td>0</td>\n",
              "      <td>0</td>\n",
              "    </tr>\n",
              "    <tr>\n",
              "      <th>1</th>\n",
              "      <td>3061</td>\n",
              "      <td>49</td>\n",
              "      <td>18</td>\n",
              "      <td>443</td>\n",
              "      <td>191</td>\n",
              "      <td>1921</td>\n",
              "      <td>225</td>\n",
              "      <td>198</td>\n",
              "      <td>101</td>\n",
              "      <td>2655</td>\n",
              "      <td>0</td>\n",
              "      <td>0</td>\n",
              "      <td>1</td>\n",
              "      <td>0</td>\n",
              "      <td>0</td>\n",
              "      <td>0</td>\n",
              "      <td>0</td>\n",
              "      <td>0</td>\n",
              "      <td>0</td>\n",
              "      <td>0</td>\n",
              "      <td>0</td>\n",
              "      <td>0</td>\n",
              "      <td>0</td>\n",
              "      <td>0</td>\n",
              "      <td>0</td>\n",
              "      <td>0</td>\n",
              "      <td>0</td>\n",
              "      <td>0</td>\n",
              "      <td>0</td>\n",
              "      <td>0</td>\n",
              "      <td>0</td>\n",
              "      <td>0</td>\n",
              "      <td>0</td>\n",
              "      <td>0</td>\n",
              "      <td>0</td>\n",
              "      <td>0</td>\n",
              "      <td>0</td>\n",
              "      <td>1</td>\n",
              "      <td>0</td>\n",
              "      <td>0</td>\n",
              "      <td>0</td>\n",
              "      <td>0</td>\n",
              "      <td>0</td>\n",
              "      <td>0</td>\n",
              "      <td>0</td>\n",
              "      <td>0</td>\n",
              "      <td>0</td>\n",
              "      <td>0</td>\n",
              "      <td>0</td>\n",
              "      <td>0</td>\n",
              "      <td>0</td>\n",
              "      <td>0</td>\n",
              "      <td>0</td>\n",
              "      <td>0</td>\n",
              "    </tr>\n",
              "    <tr>\n",
              "      <th>2</th>\n",
              "      <td>2207</td>\n",
              "      <td>331</td>\n",
              "      <td>23</td>\n",
              "      <td>42</td>\n",
              "      <td>20</td>\n",
              "      <td>1075</td>\n",
              "      <td>161</td>\n",
              "      <td>205</td>\n",
              "      <td>180</td>\n",
              "      <td>450</td>\n",
              "      <td>0</td>\n",
              "      <td>0</td>\n",
              "      <td>0</td>\n",
              "      <td>1</td>\n",
              "      <td>0</td>\n",
              "      <td>0</td>\n",
              "      <td>0</td>\n",
              "      <td>0</td>\n",
              "      <td>0</td>\n",
              "      <td>0</td>\n",
              "      <td>0</td>\n",
              "      <td>0</td>\n",
              "      <td>0</td>\n",
              "      <td>1</td>\n",
              "      <td>0</td>\n",
              "      <td>0</td>\n",
              "      <td>0</td>\n",
              "      <td>0</td>\n",
              "      <td>0</td>\n",
              "      <td>0</td>\n",
              "      <td>0</td>\n",
              "      <td>0</td>\n",
              "      <td>0</td>\n",
              "      <td>0</td>\n",
              "      <td>0</td>\n",
              "      <td>0</td>\n",
              "      <td>0</td>\n",
              "      <td>0</td>\n",
              "      <td>0</td>\n",
              "      <td>0</td>\n",
              "      <td>0</td>\n",
              "      <td>0</td>\n",
              "      <td>0</td>\n",
              "      <td>0</td>\n",
              "      <td>0</td>\n",
              "      <td>0</td>\n",
              "      <td>0</td>\n",
              "      <td>0</td>\n",
              "      <td>0</td>\n",
              "      <td>0</td>\n",
              "      <td>0</td>\n",
              "      <td>0</td>\n",
              "      <td>0</td>\n",
              "      <td>0</td>\n",
              "    </tr>\n",
              "    <tr>\n",
              "      <th>3</th>\n",
              "      <td>2699</td>\n",
              "      <td>298</td>\n",
              "      <td>18</td>\n",
              "      <td>85</td>\n",
              "      <td>22</td>\n",
              "      <td>2753</td>\n",
              "      <td>168</td>\n",
              "      <td>231</td>\n",
              "      <td>203</td>\n",
              "      <td>1110</td>\n",
              "      <td>0</td>\n",
              "      <td>0</td>\n",
              "      <td>1</td>\n",
              "      <td>0</td>\n",
              "      <td>0</td>\n",
              "      <td>0</td>\n",
              "      <td>0</td>\n",
              "      <td>0</td>\n",
              "      <td>0</td>\n",
              "      <td>0</td>\n",
              "      <td>0</td>\n",
              "      <td>0</td>\n",
              "      <td>0</td>\n",
              "      <td>0</td>\n",
              "      <td>0</td>\n",
              "      <td>0</td>\n",
              "      <td>0</td>\n",
              "      <td>0</td>\n",
              "      <td>0</td>\n",
              "      <td>0</td>\n",
              "      <td>0</td>\n",
              "      <td>0</td>\n",
              "      <td>0</td>\n",
              "      <td>0</td>\n",
              "      <td>0</td>\n",
              "      <td>0</td>\n",
              "      <td>0</td>\n",
              "      <td>1</td>\n",
              "      <td>0</td>\n",
              "      <td>0</td>\n",
              "      <td>0</td>\n",
              "      <td>0</td>\n",
              "      <td>0</td>\n",
              "      <td>0</td>\n",
              "      <td>0</td>\n",
              "      <td>0</td>\n",
              "      <td>0</td>\n",
              "      <td>0</td>\n",
              "      <td>0</td>\n",
              "      <td>0</td>\n",
              "      <td>0</td>\n",
              "      <td>0</td>\n",
              "      <td>0</td>\n",
              "      <td>0</td>\n",
              "    </tr>\n",
              "    <tr>\n",
              "      <th>4</th>\n",
              "      <td>2988</td>\n",
              "      <td>27</td>\n",
              "      <td>20</td>\n",
              "      <td>636</td>\n",
              "      <td>119</td>\n",
              "      <td>2411</td>\n",
              "      <td>206</td>\n",
              "      <td>191</td>\n",
              "      <td>114</td>\n",
              "      <td>2048</td>\n",
              "      <td>0</td>\n",
              "      <td>0</td>\n",
              "      <td>1</td>\n",
              "      <td>0</td>\n",
              "      <td>0</td>\n",
              "      <td>0</td>\n",
              "      <td>0</td>\n",
              "      <td>0</td>\n",
              "      <td>0</td>\n",
              "      <td>0</td>\n",
              "      <td>0</td>\n",
              "      <td>0</td>\n",
              "      <td>0</td>\n",
              "      <td>0</td>\n",
              "      <td>0</td>\n",
              "      <td>0</td>\n",
              "      <td>0</td>\n",
              "      <td>0</td>\n",
              "      <td>0</td>\n",
              "      <td>0</td>\n",
              "      <td>0</td>\n",
              "      <td>0</td>\n",
              "      <td>0</td>\n",
              "      <td>0</td>\n",
              "      <td>0</td>\n",
              "      <td>0</td>\n",
              "      <td>0</td>\n",
              "      <td>1</td>\n",
              "      <td>0</td>\n",
              "      <td>0</td>\n",
              "      <td>0</td>\n",
              "      <td>0</td>\n",
              "      <td>0</td>\n",
              "      <td>0</td>\n",
              "      <td>0</td>\n",
              "      <td>0</td>\n",
              "      <td>0</td>\n",
              "      <td>0</td>\n",
              "      <td>0</td>\n",
              "      <td>0</td>\n",
              "      <td>0</td>\n",
              "      <td>0</td>\n",
              "      <td>0</td>\n",
              "      <td>0</td>\n",
              "    </tr>\n",
              "  </tbody>\n",
              "</table>\n",
              "</div>"
            ],
            "text/plain": [
              "   altitud  azimut  inclinacion  DH_agua  DV_agua  DH_camino  sombra_9am  \\\n",
              "0     2975     144            4        0        0       1504         226   \n",
              "1     3061      49           18      443      191       1921         225   \n",
              "2     2207     331           23       42       20       1075         161   \n",
              "3     2699     298           18       85       22       2753         168   \n",
              "4     2988      27           20      636      119       2411         206   \n",
              "\n",
              "   sombra_12pm  sombra_3pm  DH_fuego  reserva_1  reserva_2  reserva_3  \\\n",
              "0          239         147      1917          0          0          1   \n",
              "1          198         101      2655          0          0          1   \n",
              "2          205         180       450          0          0          0   \n",
              "3          231         203      1110          0          0          1   \n",
              "4          191         114      2048          0          0          1   \n",
              "\n",
              "   Reserva_4  t1  t2  t3  t4  t5  t6  t7  t8  t9  t10  t11  t12  t13  t14  \\\n",
              "0          0   0   0   0   0   0   0   0   0   0    0    0    0    0    0   \n",
              "1          0   0   0   0   0   0   0   0   0   0    0    0    0    0    0   \n",
              "2          1   0   0   0   0   0   0   0   0   0    1    0    0    0    0   \n",
              "3          0   0   0   0   0   0   0   0   0   0    0    0    0    0    0   \n",
              "4          0   0   0   0   0   0   0   0   0   0    0    0    0    0    0   \n",
              "\n",
              "   t15  t16  t17  t18  t19  t20  t21  t22  t23  t24  t25  t26  t27  t28  t29  \\\n",
              "0    0    0    0    0    0    0    0    0    0    0    0    0    0    0    0   \n",
              "1    0    0    0    0    0    0    0    0    0    1    0    0    0    0    0   \n",
              "2    0    0    0    0    0    0    0    0    0    0    0    0    0    0    0   \n",
              "3    0    0    0    0    0    0    0    0    0    1    0    0    0    0    0   \n",
              "4    0    0    0    0    0    0    0    0    0    1    0    0    0    0    0   \n",
              "\n",
              "   t30  t31  t32  t33  t34  t35  t36  t37  t38  t39  t40  \n",
              "0    0    0    1    0    0    0    0    0    0    0    0  \n",
              "1    0    0    0    0    0    0    0    0    0    0    0  \n",
              "2    0    0    0    0    0    0    0    0    0    0    0  \n",
              "3    0    0    0    0    0    0    0    0    0    0    0  \n",
              "4    0    0    0    0    0    0    0    0    0    0    0  "
            ]
          },
          "metadata": {},
          "execution_count": 15
        }
      ]
    },
    {
      "cell_type": "code",
      "metadata": {
        "id": "tNSUiQHD3oyZ",
        "colab": {
          "base_uri": "https://localhost:8080/"
        },
        "outputId": "a92a8947-59ed-4ed1-8380-94fed28b96a2"
      },
      "source": [
        "print(\"Features train set shape : \" + str(X_train.shape))"
      ],
      "execution_count": 17,
      "outputs": [
        {
          "output_type": "stream",
          "name": "stdout",
          "text": [
            "Features train set shape : (92961, 54)\n"
          ]
        }
      ]
    },
    {
      "cell_type": "code",
      "metadata": {
        "id": "m7ZgoVUe3pFY",
        "colab": {
          "base_uri": "https://localhost:8080/"
        },
        "outputId": "4ffbed24-d08f-4572-8fe1-d261130bac5a"
      },
      "source": [
        "a = 0\n",
        "for i in X_train['altitud']:\n",
        "  print(i)\n",
        "  a += 1\n",
        "  if a >= 10:\n",
        "    break"
      ],
      "execution_count": 18,
      "outputs": [
        {
          "output_type": "stream",
          "name": "stdout",
          "text": [
            "2975\n",
            "3061\n",
            "2207\n",
            "2699\n",
            "2988\n",
            "2961\n",
            "3085\n",
            "2543\n",
            "2841\n",
            "3185\n"
          ]
        }
      ]
    },
    {
      "cell_type": "code",
      "metadata": {
        "colab": {
          "base_uri": "https://localhost:8080/"
        },
        "id": "ZxcVgCMcMpse",
        "outputId": "774c38bb-6d62-45e6-9430-52a5240aaa96"
      },
      "source": [
        "from sklearn.preprocessing import MinMaxScaler\n",
        "\n",
        "scaler = MinMaxScaler()\n",
        "\n",
        "X_train_scale = scaler.fit_transform(X_train)\n",
        "print(\"Features train set shape (scaled) : \" + str(X_train_scale.shape))"
      ],
      "execution_count": 20,
      "outputs": [
        {
          "output_type": "stream",
          "name": "stdout",
          "text": [
            "Features train set shape (scaled) : (92961, 54)\n"
          ]
        }
      ]
    },
    {
      "cell_type": "code",
      "metadata": {
        "id": "-M38rWpi68i5"
      },
      "source": [
        "print(X_train_scale)"
      ],
      "execution_count": null,
      "outputs": []
    },
    {
      "cell_type": "code",
      "metadata": {
        "colab": {
          "base_uri": "https://localhost:8080/",
          "height": 298
        },
        "id": "24YZHpxA2LIP",
        "outputId": "3ae3f74d-1993-4bad-fe63-09396eb8edd5"
      },
      "source": [
        "# Verify scale is good\n",
        "\n",
        "fig, axes = plt.subplots(1,4)\n",
        "axes[0].scatter(X_train['altitud'], X_train['azimut'], X_train['inclinacion'], X_train['DH_agua'])\n",
        "axes[0].set_title(\"Original 1\")\n",
        "axes[1].scatter(X_train['DV_agua'], X_train['sombra_3pm'], X_train['Reserva_4'], X_train['reserva_2'])\n",
        "axes[1].set_title(\"Original 2\")\n",
        "axes[2].scatter(X_train_scale[:, 0], X_train_scale[:, 1], X_train_scale[:, 2], X_train_scale[:, 3])\n",
        "axes[2].set_title(\"MinMax 1\")\n",
        "axes[3].scatter(X_train_scale[:, 4], X_train_scale[:, 8], X_train_scale[:, 13], X_train_scale[:, 11])\n",
        "axes[3].set_title(\"MinMax 2\")\n",
        "print(\"Checking if the scaling as been well done\")\n",
        "plt.show()"
      ],
      "execution_count": 21,
      "outputs": [
        {
          "output_type": "stream",
          "name": "stdout",
          "text": [
            "Checking if the scaling as been well done\n"
          ]
        },
        {
          "output_type": "display_data",
          "data": {
            "image/png": "[encoded data removed]",
            "text/plain": [
              "<Figure size 432x288 with 4 Axes>"
            ]
          },
          "metadata": {
            "needs_background": "light"
          }
        }
      ]
    },
    {
      "cell_type": "markdown",
      "metadata": {
        "id": "hmT1gp0H8rcn"
      },
      "source": [
        "#-[5]. Reduction with PCA"
      ]
    },
    {
      "cell_type": "code",
      "metadata": {
        "id": "XNMIJqeb8u2c"
      },
      "source": [
        "from sklearn.decomposition import PCA\n",
        "\n",
        "n_components = 10\n",
        "# n_components = 0.5 \n",
        "if n_components <= X_train_scale.shape[1]:\n",
        "    pca = PCA(n_components = n_components)\n",
        "    pca.fit(X_train_scale)\n",
        "    X_proy = pca.transform(X_train_scale)\n",
        "else:\n",
        "    print(\"ERROR: the number of princial components has to be less or equal than data dimension !\")"
      ],
      "execution_count": 22,
      "outputs": []
    },
    {
      "cell_type": "code",
      "metadata": {
        "colab": {
          "base_uri": "https://localhost:8080/"
        },
        "id": "atqkjfAr-G9a",
        "outputId": "d4fba1d9-ff86-4e37-e5e5-24384b797861"
      },
      "source": [
        "print(X_proy)"
      ],
      "execution_count": 23,
      "outputs": [
        {
          "output_type": "stream",
          "name": "stdout",
          "text": [
            "[[-0.81286563 -0.292003   -0.04182112 ... -0.25375451 -0.0671407\n",
            "  -0.15649275]\n",
            " [-0.69744619 -0.22521472 -0.12999849 ...  0.26138818  0.10337842\n",
            "   0.28368837]\n",
            " [-0.22183403  1.2571994   0.93876059 ... -0.11530858 -0.00954677\n",
            "  -0.19413035]\n",
            " ...\n",
            " [ 0.61150324  0.19304989 -0.35646981 ...  0.58004134 -0.24400096\n",
            "  -0.65156441]\n",
            " [-0.71604973 -0.1168817   0.05235239 ...  0.13836003  0.06652432\n",
            "   0.08243308]\n",
            " [ 0.61223667  0.07497266 -0.33778454 ...  0.02260976 -0.02291475\n",
            "   0.0476652 ]]\n"
          ]
        }
      ]
    },
    {
      "cell_type": "code",
      "metadata": {
        "id": "LrUpnR3p9fFB",
        "colab": {
          "base_uri": "https://localhost:8080/"
        },
        "outputId": "0b49c71f-8f1f-4ccc-970f-8fd8b26a04db"
      },
      "source": [
        "num_of_pc = len(pca.singular_values_)\n",
        "\n",
        "strTitle = '\\n First %d principal components' %(num_of_pc)\n",
        "print(strTitle)\n",
        "print(pca.components_.T)\n",
        "strTitle = '\\n First %d singular values ' %(num_of_pc)\n",
        "print(strTitle)\n",
        "print(pca.singular_values_.T)\n",
        "strTitle = '\\n Explained Variance Ratio'\n",
        "print(strTitle)\n",
        "print(pca.explained_variance_ratio_.T)\n",
        "strTitle = '\\n Accumulated Explained Variance Ratio'\n",
        "print(strTitle)\n",
        "print(np.cumsum(pca.explained_variance_ratio_.T))"
      ],
      "execution_count": 24,
      "outputs": [
        {
          "output_type": "stream",
          "name": "stdout",
          "text": [
            "\n",
            " First 10 principal components\n",
            "[[ 1.12517351e-02 -1.67091805e-01 -1.47768262e-01 -1.40262593e-01\n",
            "   1.13973301e-02  4.48901487e-02  1.99112718e-01  6.54091920e-02\n",
            "  -4.10382566e-02  3.64777440e-02]\n",
            " [-6.04942741e-02  1.16742975e-01  3.13140266e-01 -7.91904911e-01\n",
            "  -1.66690700e-01 -1.74955281e-01 -5.54907674e-02 -5.00561334e-02\n",
            "  -2.79602909e-04  6.06255751e-02]\n",
            " [-3.25088304e-02  5.00291860e-02  1.06357240e-01  6.64624459e-02\n",
            "  -2.09360887e-02 -1.08795184e-01  1.39216026e-02 -1.72267068e-02\n",
            "  -1.09037042e-01  3.87930790e-02]\n",
            " [-2.34971082e-02 -7.61843993e-02  1.18358966e-02 -2.11192427e-02\n",
            "  -6.32025512e-02  2.00800876e-02  1.15050398e-01 -3.78342225e-02\n",
            "   8.16379762e-02  9.22473327e-02]\n",
            " [-1.91342907e-02 -7.08465363e-03  3.33727052e-02  5.36800991e-03\n",
            "  -3.47109548e-02 -2.31395709e-02  3.44340872e-02 -2.66664007e-02\n",
            "   4.86074938e-03  3.75399280e-02]\n",
            " [ 1.25995311e-01 -2.09398978e-01 -7.05591933e-02 -1.55678228e-01\n",
            "  -9.33430751e-02 -8.59999308e-02 -8.80292292e-02  4.46396571e-02\n",
            "  -3.86425932e-03 -1.16835987e-01]\n",
            " [ 2.66511507e-02 -5.09597553e-02 -1.12011357e-01  1.55656835e-01\n",
            "   2.90059545e-02  6.70496555e-02  2.89174072e-02  8.71621017e-04\n",
            "  -2.01074928e-02  8.00340678e-03]\n",
            " [-9.73995347e-04 -2.95921816e-02 -2.63505975e-02 -1.41831740e-01\n",
            "  -1.96549199e-02  2.37385579e-02 -9.66233647e-03  8.40945987e-04\n",
            "   4.75310370e-02 -5.54233653e-03]\n",
            " [-2.59486048e-02  2.33035048e-02  9.03347346e-02 -3.21591741e-01\n",
            "  -4.68466349e-02 -3.69398300e-02 -4.40034969e-02  5.40255456e-03\n",
            "   8.87903389e-02 -2.13675580e-02]\n",
            " [ 9.72462125e-02 -9.31206205e-02 -1.01824456e-01 -8.85580220e-03\n",
            "  -7.19353609e-02 -1.69030152e-02  5.96451445e-02 -6.02339626e-02\n",
            "   2.42453729e-01  7.96193429e-02]\n",
            " [ 6.46513719e-01 -1.62014673e-01 -2.17608370e-01 -5.84532362e-02\n",
            "  -1.88048724e-01 -9.89937256e-02 -2.08884766e-01 -5.96844706e-02\n",
            "  -7.38976937e-02 -1.08483792e-01]\n",
            " [-1.26897051e-02  1.93804219e-01 -6.49367190e-02 -1.08175114e-01\n",
            "   1.64922780e-01  1.78361930e-01  6.08010657e-01  8.01224328e-02\n",
            "   8.61433676e-02  2.89710301e-01]\n",
            " [-6.13168305e-01 -4.81622358e-01 -5.78878914e-02  9.83025286e-03\n",
            "   5.29355378e-03 -1.14281962e-01 -2.60887576e-01  8.04718730e-02\n",
            "  -1.14638460e-02 -7.14513101e-02]\n",
            " [-2.06557085e-02  4.49832811e-01  3.40432980e-01  1.56798097e-01\n",
            "   1.78323903e-02  3.49137571e-02 -1.38238315e-01 -1.00909835e-01\n",
            "  -7.81827828e-04 -1.09775198e-01]\n",
            " [-1.35789630e-03  3.18725413e-02  2.05224433e-02  1.75783772e-02\n",
            "   2.95911155e-03  5.08502921e-03 -2.47584569e-03 -7.94679805e-03\n",
            "  -2.65100941e-03  3.33477079e-04]\n",
            " [-1.35589506e-02  1.84254222e-02  1.80738079e-02  2.03107109e-02\n",
            "   3.63103979e-03 -1.00688353e-03 -2.05420107e-02  1.31593687e-02\n",
            "   5.37836308e-03  7.87366183e-03]\n",
            " [-6.25459702e-03  2.52102784e-02  1.85344038e-02  2.08588256e-02\n",
            "   3.61662712e-03  1.69161726e-03 -8.73974139e-03  5.36187347e-04\n",
            "  -3.85309261e-03  4.27261581e-03]\n",
            " [-2.67244807e-02  2.53542520e-03  1.93015688e-02  1.93291223e-02\n",
            "   1.40107966e-03 -1.93833896e-02 -4.53985015e-02  4.48043469e-02\n",
            "   4.35131823e-03  2.82534502e-02]\n",
            " [-7.69209698e-04  1.66851031e-02  1.16806320e-02  6.23181576e-03\n",
            "   6.87581684e-04  1.70911264e-03 -1.49735936e-03 -4.36713895e-03\n",
            "  -4.78662756e-04  6.34374947e-04]\n",
            " [-2.89080656e-03  7.06058683e-02  4.64544741e-02  2.74874365e-02\n",
            "   4.08819232e-03  1.33278769e-02 -2.93852810e-03 -1.87629803e-02\n",
            "   4.14241099e-03  7.27358534e-04]\n",
            " [ 2.53391480e-04  4.35655808e-05 -4.60719327e-04 -3.66098824e-05\n",
            "  -5.60812841e-04 -1.17499281e-04 -1.12446516e-04 -9.14714595e-05\n",
            "   3.43309557e-04 -5.73176874e-05]\n",
            " [ 3.71599769e-04  8.78292444e-05 -6.77754810e-04 -4.23158039e-05\n",
            "  -7.89137305e-04 -1.59478708e-04 -2.15497664e-04 -1.02327099e-04\n",
            "   4.12284300e-04 -1.54375466e-04]\n",
            " [ 1.94965388e-03  2.97054416e-03 -2.78589069e-03  2.81123460e-03\n",
            "  -2.96221722e-03  1.06061778e-04 -1.78810944e-03 -7.57427688e-04\n",
            "  -2.03911094e-03 -4.75098734e-04]\n",
            " [-4.72680190e-02  2.74141038e-01  2.61612262e-01  1.39401846e-01\n",
            "   1.46271986e-02 -2.01368495e-02 -2.44858089e-01 -1.26142792e-02\n",
            "  -1.66452349e-03 -1.97834885e-01]\n",
            " [-2.79654742e-02 -1.42042606e-02 -3.89552546e-03  5.25448923e-02\n",
            "   1.14844898e-02 -5.18650358e-03 -3.78874476e-02  5.76913872e-02\n",
            "   1.70067308e-02  2.67302552e-02]\n",
            " [ 6.58586775e-02  6.31755501e-02 -1.70319900e-01  4.87195902e-02\n",
            "  -2.78676866e-01 -4.33039116e-02 -9.30570957e-02 -1.68011318e-01\n",
            "   6.83343117e-01 -6.15304187e-03]\n",
            " [-4.05839017e-02 -2.46411387e-02  1.81766570e-02 -1.12430101e-02\n",
            "  -7.93484350e-03 -4.57806282e-02 -5.92354117e-02  1.00186480e-01\n",
            "   7.21882328e-03  7.30630171e-02]\n",
            " [-7.61027856e-04  4.10468233e-03  2.99855841e-03  1.81249867e-03\n",
            "   4.54932318e-04  3.09670618e-04 -1.59051661e-03 -1.64613615e-04\n",
            "  -7.88414098e-05 -8.38922686e-05]\n",
            " [-2.42941280e-06  6.37902955e-05  3.20916442e-05  5.58666659e-05\n",
            "   1.40217618e-05  2.03951229e-05 -6.75969419e-06 -1.16504703e-05\n",
            "  -3.75765744e-07 -8.66633095e-06]\n",
            " [ 3.18037159e-03  6.16432371e-03 -4.40933561e-03 -1.61663899e-05\n",
            "  -8.37931152e-03 -1.93500891e-03 -3.07262905e-03 -8.46899150e-04\n",
            "   3.59630610e-03  8.53255700e-04]\n",
            " [-5.85751825e-03  5.29129886e-03  5.74472932e-03  5.41573875e-03\n",
            "   1.12974391e-03 -1.43202801e-03 -9.26164165e-03  6.40053038e-03\n",
            "   3.62228172e-03  1.91519598e-03]\n",
            " [ 3.57662546e-03  4.28976201e-03 -6.24015093e-03  4.53979195e-03\n",
            "  -6.32277563e-03  2.81713185e-04 -2.76927421e-04 -2.82355759e-03\n",
            "   5.15308534e-03  2.88724170e-03]\n",
            " [ 3.90749566e-03  5.11555167e-03 -9.98697766e-03 -3.74756776e-03\n",
            "  -1.02197795e-02 -3.98956364e-04  6.29677155e-03  5.19446268e-03\n",
            "   2.33282236e-03  5.66675697e-03]\n",
            " [ 8.40057226e-03  4.56618503e-03 -2.65988419e-02  5.76145436e-03\n",
            "  -3.18293054e-02 -1.00705048e-02 -1.80487142e-02  5.83932206e-03\n",
            "   1.27034055e-02 -2.02831263e-03]\n",
            " [-1.89172498e-03 -9.43681295e-04  9.52620097e-04 -2.87883424e-03\n",
            "  -5.03442481e-04 -1.65052847e-03 -2.38195059e-03  2.83578312e-03\n",
            "   3.43811979e-04  9.61521863e-04]\n",
            " [ 1.82615917e-02  7.04627547e-02 -9.84834435e-02 -6.79249468e-02\n",
            "  -1.73056320e-01 -1.83655604e-02  2.88157084e-01  5.63597364e-01\n",
            "  -1.44556730e-01 -6.07464824e-01]\n",
            " [ 4.48467397e-03  1.70621521e-01 -4.49441265e-01 -2.83014959e-01\n",
            "   7.03259252e-01  2.36994184e-02 -2.25167472e-01 -1.50106400e-01\n",
            "  -4.08856636e-02 -1.28510290e-01]\n",
            " [-3.39566933e-02 -1.32797499e-02 -7.55184516e-03  1.57017132e-03\n",
            "  -1.64942517e-02 -3.23274995e-02  1.48287280e-02  1.45907682e-01\n",
            "   6.56590297e-02  2.21965380e-01]\n",
            " [-1.55005970e-04  3.28808707e-03 -5.65959503e-04  3.27450261e-04\n",
            "   1.85107530e-03  3.04037598e-03  1.14515303e-02  1.55671317e-03\n",
            "   2.94111729e-03  9.07320875e-03]\n",
            " [-5.54724869e-03 -5.35568483e-03 -1.62954768e-03  3.66382055e-03\n",
            "  -2.23134567e-04 -2.55255096e-03 -5.69506233e-03  8.82989478e-03\n",
            "   5.14718610e-03  3.43991381e-03]\n",
            " [-2.53792949e-03 -2.43727227e-03  8.01960763e-05 -3.54918981e-04\n",
            "  -7.82051766e-04 -1.88907771e-03 -1.35675668e-03  3.68105453e-03\n",
            "   9.43583764e-04  2.67726680e-03]\n",
            " [-2.41034755e-03 -6.49674290e-04  2.22874173e-03 -2.50733344e-03\n",
            "  -9.87520559e-04 -2.71428593e-03 -2.66410235e-03  2.53491187e-03\n",
            "   9.44721037e-04  2.56375580e-03]\n",
            " [ 3.52225435e-01 -4.77790765e-01  5.68377461e-01  2.80873019e-02\n",
            "   3.88278763e-01  8.68521070e-02  6.30526599e-02  2.54095265e-02\n",
            "   1.53052712e-02  1.50929984e-02]\n",
            " [ 6.34679462e-02  7.18855615e-02 -1.43245592e-01  2.59050403e-02\n",
            "  -2.70040846e-01 -7.40534635e-02 -1.00303723e-01 -1.11331533e-01\n",
            "  -6.09043524e-01  3.90716310e-01]\n",
            " [-6.10792161e-02 -5.91938920e-02 -3.49733831e-03  1.71826749e-02\n",
            "  -1.67806544e-03 -5.31239551e-02 -8.81568290e-02  3.00815978e-01\n",
            "   1.20819561e-01  3.54760132e-01]\n",
            " [-1.30237983e-01 -1.53514900e-01  1.92596943e-03 -1.21991410e-01\n",
            "  -2.34946552e-01  7.56947531e-01  4.13625119e-02 -3.80632097e-01\n",
            "  -1.03665106e-01 -1.78748505e-01]\n",
            " [-1.11931063e-01 -1.14481455e-01  1.26435137e-02  8.42689448e-02\n",
            "   3.11567398e-03 -5.36942967e-01  4.34190547e-01 -5.47315049e-01\n",
            "  -7.57294413e-02 -2.18349192e-01]\n",
            " [-3.52498265e-03 -3.11109277e-03  3.60489878e-04 -1.06290127e-03\n",
            "  -9.30618829e-04 -2.17503371e-03 -2.85400166e-03  5.25875332e-03\n",
            "   1.59030926e-03  2.68554533e-03]\n",
            " [-3.26810149e-04  1.49058429e-03 -3.66614218e-03  1.97861060e-03\n",
            "  -1.75721642e-04  2.08061643e-03  8.02445835e-03  4.27238953e-03\n",
            "   1.49303202e-03  6.87973549e-03]\n",
            " [-2.75550016e-04 -3.30583217e-04 -3.44981197e-05 -1.13110468e-04\n",
            "  -1.00374043e-04 -1.58365131e-04 -8.37225938e-05  4.38825948e-04\n",
            "   9.45431668e-05  2.49451724e-04]\n",
            " [ 4.14394474e-04  7.51772125e-06 -1.27254715e-03  1.08124835e-03\n",
            "  -7.30623526e-04 -2.92844346e-05  1.88520024e-05  3.06583785e-04\n",
            "  -4.89516646e-04 -1.71262079e-04]\n",
            " [-6.30216170e-05  6.37680337e-03 -3.23084456e-02 -2.63992555e-02\n",
            "  -3.81371351e-02 -5.70176009e-03  4.81967711e-02  5.24278535e-02\n",
            "   1.95761345e-02  7.43231503e-02]\n",
            " [-5.83162121e-04  1.10997736e-03 -2.52080102e-02 -9.72807993e-03\n",
            "  -3.82604108e-02 -1.86411904e-02  1.23004781e-02  3.72387512e-02\n",
            "  -1.00052103e-02  4.79275058e-02]\n",
            " [ 2.16262055e-03  9.34258318e-03 -1.74208901e-02 -5.86304462e-03\n",
            "  -1.58766662e-02  4.08563859e-03  5.17865013e-02  1.69613890e-02\n",
            "   1.06782495e-02  5.35131256e-02]]\n",
            "\n",
            " First 10 singular values \n",
            "[223.80509829 118.60031205 107.34570189 102.60825514  91.47870806\n",
            "  89.15276339  82.94692562  75.76703046  71.22344371  68.70764351]\n",
            "\n",
            " Explained Variance Ratio\n",
            "[0.29848932 0.08382248 0.0686686  0.06274129 0.0498688  0.0473651\n",
            " 0.04100053 0.03420971 0.03022977 0.02813189]\n",
            "\n",
            " Accumulated Explained Variance Ratio\n",
            "[0.29848932 0.3823118  0.4509804  0.51372169 0.56359049 0.61095559\n",
            " 0.65195612 0.68616583 0.71639559 0.74452749]\n"
          ]
        }
      ]
    },
    {
      "cell_type": "markdown",
      "metadata": {
        "id": "ksCx9gBo_i_o"
      },
      "source": [
        "#-[6]. Learning with GradientBoosting ensemble"
      ]
    },
    {
      "cell_type": "markdown",
      "metadata": {
        "id": "Gu_QJ4-EAwCG"
      },
      "source": [
        "### Taking 10-20 min with google colaboratory"
      ]
    },
    {
      "cell_type": "code",
      "metadata": {
        "colab": {
          "base_uri": "https://localhost:8080/"
        },
        "id": "6ZY-Qkx1_lK_",
        "outputId": "346e7a4e-8a7b-4951-e012-4c82d62fa6ac"
      },
      "source": [
        "from sklearn.ensemble import GradientBoostingClassifier\n",
        "\n",
        "max_depth = 20\n",
        "n_estimators = 100\n",
        "learning_rate= 0.2\n",
        "\n",
        "gb_clf = GradientBoostingClassifier(max_depth=max_depth,        \\\n",
        "                                    n_estimators=n_estimators,  \\\n",
        "                                    learning_rate=learning_rate)\n",
        "\n",
        "gb_clf.fit(X_train_scale, Y_train)"
      ],
      "execution_count": 25,
      "outputs": [
        {
          "output_type": "stream",
          "name": "stderr",
          "text": [
            "/usr/local/lib/python3.7/dist-packages/sklearn/ensemble/_gb.py:494: DataConversionWarning: A column-vector y was passed when a 1d array was expected. Please change the shape of y to (n_samples, ), for example using ravel().\n",
            "  y = column_or_1d(y, warn=True)\n"
          ]
        },
        {
          "output_type": "execute_result",
          "data": {
            "text/plain": [
              "GradientBoostingClassifier(learning_rate=0.2, max_depth=20)"
            ]
          },
          "metadata": {},
          "execution_count": 25
        }
      ]
    },
    {
      "cell_type": "markdown",
      "metadata": {
        "id": "J9xlqpeY_tam"
      },
      "source": [
        "#-[7]. Testing the model with test dataset"
      ]
    },
    {
      "cell_type": "code",
      "metadata": {
        "colab": {
          "base_uri": "https://localhost:8080/"
        },
        "id": "178wmBJm_yti",
        "outputId": "05781452-a320-4674-f8f3-a77d422d07c2"
      },
      "source": [
        "from sklearn.metrics import accuracy_score\n",
        "from sklearn.metrics import confusion_matrix, classification_report\n",
        "\n",
        "Y_pred = gb_clf.predict(scaler.transform(X_valid))\n",
        "cm = confusion_matrix(Y_valid, Y_pred)\n",
        "cr = classification_report(Y_valid, Y_pred)\n",
        "\n",
        "accuracy = accuracy_score(Y_valid, Y_pred)\n",
        "\n",
        "print(\"accuracy = \",accuracy)\n",
        "print()\n",
        "print(cm)\n",
        "print()\n",
        "print(cr)"
      ],
      "execution_count": 36,
      "outputs": [
        {
          "output_type": "stream",
          "name": "stdout",
          "text": [
            "accuracy =  0.9358031065788908\n",
            "\n",
            "[[ 7911   524     1     0     7     2    29]\n",
            " [  375 10875    34     0    26    18     4]\n",
            " [    0    43  1321    21     0    45     0]\n",
            " [    0     0    26    79     0     5     0]\n",
            " [    8   118     9     0   245     0     0]\n",
            " [    0    52    73    11     0   559     0]\n",
            " [   59     2     0     0     0     0   759]]\n",
            "\n",
            "              precision    recall  f1-score   support\n",
            "\n",
            "           1       0.95      0.93      0.94      8474\n",
            "           2       0.94      0.96      0.95     11332\n",
            "           3       0.90      0.92      0.91      1430\n",
            "           4       0.71      0.72      0.71       110\n",
            "           5       0.88      0.64      0.74       380\n",
            "           6       0.89      0.80      0.84       695\n",
            "           7       0.96      0.93      0.94       820\n",
            "\n",
            "    accuracy                           0.94     23241\n",
            "   macro avg       0.89      0.84      0.86     23241\n",
            "weighted avg       0.94      0.94      0.94     23241\n",
            "\n"
          ]
        }
      ]
    },
    {
      "cell_type": "markdown",
      "metadata": {
        "id": "4078p84W_Tao"
      },
      "source": [
        "#-[8]. Generating \"reto3_Ypred.csv\" with the model"
      ]
    },
    {
      "cell_type": "markdown",
      "metadata": {
        "id": "SXu4loft_yqB"
      },
      "source": [
        "### Loading the dataset to be predicted"
      ]
    },
    {
      "cell_type": "code",
      "metadata": {
        "colab": {
          "base_uri": "https://localhost:8080/"
        },
        "id": "HQDFpbfV_hOe",
        "outputId": "ea09c053-f0c3-48c3-abf6-024e95471115"
      },
      "source": [
        "X_test_set = pd.read_csv('Datasets/reto3_testX.csv')\n",
        "\n",
        "print(\"Loaded !\")"
      ],
      "execution_count": 26,
      "outputs": [
        {
          "output_type": "stream",
          "name": "stdout",
          "text": [
            "Loaded !\n"
          ]
        }
      ]
    },
    {
      "cell_type": "markdown",
      "metadata": {
        "id": "kWOqbBSE_4am"
      },
      "source": [
        "### Scaling X_test_set dataset"
      ]
    },
    {
      "cell_type": "code",
      "metadata": {
        "id": "uOpAzMpcAFEN"
      },
      "source": [
        "X_test_set_scale = scaler.transform(X_test_set)"
      ],
      "execution_count": 28,
      "outputs": []
    },
    {
      "cell_type": "code",
      "metadata": {
        "colab": {
          "base_uri": "https://localhost:8080/",
          "height": 298
        },
        "id": "HtH8jCSAATX0",
        "outputId": "fb6180d9-e31c-4937-874c-91727e4cbf1b"
      },
      "source": [
        "# Verify scale is good\n",
        "\n",
        "fig, axes = plt.subplots(1,4)\n",
        "axes[0].scatter(X_test_set['altitud'], X_test_set['azimut'], X_test_set['inclinacion'], X_test_set['DH_agua'])\n",
        "axes[0].set_title(\"Original 1\")\n",
        "axes[1].scatter(X_test_set['DV_agua'], X_test_set['sombra_3pm'], X_test_set['Reserva_4'], X_test_set['reserva_2'])\n",
        "axes[1].set_title(\"Original 2\")\n",
        "axes[2].scatter(X_test_set_scale[:, 0], X_test_set_scale[:, 1], X_test_set_scale[:, 2], X_test_set_scale[:, 3])\n",
        "axes[2].set_title(\"MinMax 1\")\n",
        "axes[3].scatter(X_test_set_scale[:, 4], X_test_set_scale[:, 8], X_test_set_scale[:, 13], X_test_set_scale[:, 11])\n",
        "axes[3].set_title(\"MinMax 2\")\n",
        "print(\"Checking if the scaling as been well done\")\n",
        "plt.show()"
      ],
      "execution_count": 29,
      "outputs": [
        {
          "output_type": "stream",
          "name": "stdout",
          "text": [
            "Checking if the scaling as been well done\n"
          ]
        },
        {
          "output_type": "display_data",
          "data": {
            "image/png": "[encoded data removed]",
            "text/plain": [
              "<Figure size 432x288 with 4 Axes>"
            ]
          },
          "metadata": {
            "needs_background": "light"
          }
        }
      ]
    },
    {
      "cell_type": "markdown",
      "metadata": {
        "id": "M9w1p2Ce_-78"
      },
      "source": [
        "### Predict the values"
      ]
    },
    {
      "cell_type": "code",
      "metadata": {
        "id": "9X1qEKZRAtg-"
      },
      "source": [
        "Y_pred_final = gb_clf.predict(X_test_set_scale)"
      ],
      "execution_count": 32,
      "outputs": []
    },
    {
      "cell_type": "markdown",
      "metadata": {
        "id": "AnQwuh6WAAT1"
      },
      "source": [
        "### Generating the reto3_Ypred.csv file"
      ]
    },
    {
      "cell_type": "code",
      "metadata": {
        "id": "JwMqi6uOBWgY"
      },
      "source": [
        "Y_pred_final = np.array(Y_pred_final)\n",
        "# --- Save prediction in .csv file.\n",
        "np.savetxt('Datasets/reto3_Ypred.csv', Y_pred_final, fmt='%i', delimiter=',')"
      ],
      "execution_count": 34,
      "outputs": []
    },
    {
      "cell_type": "markdown",
      "metadata": {
        "id": "FuQ7eR1ZEniK"
      },
      "source": [
        "#-[9]. Saving model with pickle"
      ]
    },
    {
      "cell_type": "code",
      "metadata": {
        "id": "THxWklH4Ettl"
      },
      "source": [
        "import pickle\n",
        "from datetime import datetime\n",
        "\n",
        "now = datetime.now()\n",
        "date = now.strftime(\"%d-%m-%H:%M:%S\")\n",
        "\n",
        "filename = \"Model_\"\n",
        "path_file = filename + date + \".sav\"\n",
        "\n",
        "pickle.dump(gb_clf, open(path_file, \"wb\"))"
      ],
      "execution_count": 40,
      "outputs": []
    }
  ]
}