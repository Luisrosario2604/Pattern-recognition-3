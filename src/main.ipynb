{
 "cells": [
  {
   "cell_type": "markdown",
   "metadata": {
    "id": "SQe7uyWi3PYx"
   },
   "source": [
    "# -[0]. {Optional} Load google drive for csv"
   ]
  },
  {
   "cell_type": "code",
   "execution_count": null,
   "metadata": {
    "colab": {
     "base_uri": "https://localhost:8080/"
    },
    "id": "0WTUjIhbiU6C",
    "outputId": "60e100f9-80ed-418c-c793-6b5db3f0d40a"
   },
   "outputs": [],
   "source": [
    "#from google.colab import drive\n",
    "#drive.mount('/content/drive')"
   ]
  },
  {
   "cell_type": "code",
   "execution_count": null,
   "metadata": {
    "colab": {
     "base_uri": "https://localhost:8080/"
    },
    "id": "VOVgXvcmi0Dd",
    "outputId": "6cbbe317-d777-44e6-a0ef-eb810e52442a"
   },
   "outputs": [],
   "source": [
    "#%cd /content/drive/My Drive/URJC/Cours/'Reconocimiento patrones'\n",
    "\n",
    "#!ls"
   ]
  },
  {
   "cell_type": "markdown",
   "metadata": {
    "id": "GwW4hXZj0g5C"
   },
   "source": [
    "# -[1]. Importing package needed\n"
   ]
  },
  {
   "cell_type": "code",
   "execution_count": 3,
   "metadata": {
    "id": "X6Pu1giMilKn"
   },
   "outputs": [],
   "source": [
    "import sklearn\n",
    "import numpy as np\n",
    "import pandas as pd\n",
    "import seaborn as sb\n",
    "\n",
    "%matplotlib inline\n",
    "from matplotlib import pyplot as plt\n",
    "\n",
    "# seed = 1234 #<- random generator seed (0 to get randomness)\n",
    "seed = 0"
   ]
  },
  {
   "cell_type": "markdown",
   "metadata": {
    "id": "4MDM_6Sk0pRf"
   },
   "source": [
    "# -[2]. Load data from CSV : X_all_set (features) and Y_all_set (labels)"
   ]
  },
  {
   "cell_type": "code",
   "execution_count": 4,
   "metadata": {
    "colab": {
     "base_uri": "https://localhost:8080/"
    },
    "id": "EWNvRSorj8tR",
    "outputId": "8122dfcf-186c-474e-eeb7-b0d92fb98f5b"
   },
   "outputs": [
    {
     "name": "stdout",
     "output_type": "stream",
     "text": [
      "Features shape : (116202, 54)\n",
      "Label shape : (116202, 1)\n"
     ]
    }
   ],
   "source": [
    "X_all_set = pd.read_csv('../datasets/reto3_trainX.csv')\n",
    "Y_all_set = pd.read_csv('../datasets/reto3_trainY.csv')\n",
    "\n",
    "print(\"Features shape : \" + str(X_all_set.shape))\n",
    "print(\"Label shape : \" + str(Y_all_set.shape))"
   ]
  },
  {
   "cell_type": "code",
   "execution_count": 5,
   "metadata": {
    "colab": {
     "base_uri": "https://localhost:8080/",
     "height": 224
    },
    "id": "ijrhiS8ekRpi",
    "outputId": "8f9b14b3-a4ea-4b8a-c59a-368c6d294296"
   },
   "outputs": [
    {
     "data": {
      "text/html": [
       "<div>\n",
       "<style scoped>\n",
       "    .dataframe tbody tr th:only-of-type {\n",
       "        vertical-align: middle;\n",
       "    }\n",
       "\n",
       "    .dataframe tbody tr th {\n",
       "        vertical-align: top;\n",
       "    }\n",
       "\n",
       "    .dataframe thead th {\n",
       "        text-align: right;\n",
       "    }\n",
       "</style>\n",
       "<table border=\"1\" class=\"dataframe\">\n",
       "  <thead>\n",
       "    <tr style=\"text-align: right;\">\n",
       "      <th></th>\n",
       "      <th>altitud</th>\n",
       "      <th>azimut</th>\n",
       "      <th>inclinacion</th>\n",
       "      <th>DH_agua</th>\n",
       "      <th>DV_agua</th>\n",
       "      <th>DH_camino</th>\n",
       "      <th>sombra_9am</th>\n",
       "      <th>sombra_12pm</th>\n",
       "      <th>sombra_3pm</th>\n",
       "      <th>DH_fuego</th>\n",
       "      <th>reserva_1</th>\n",
       "      <th>reserva_2</th>\n",
       "      <th>reserva_3</th>\n",
       "      <th>Reserva_4</th>\n",
       "      <th>t1</th>\n",
       "      <th>t2</th>\n",
       "      <th>t3</th>\n",
       "      <th>t4</th>\n",
       "      <th>t5</th>\n",
       "      <th>t6</th>\n",
       "      <th>t7</th>\n",
       "      <th>t8</th>\n",
       "      <th>t9</th>\n",
       "      <th>t10</th>\n",
       "      <th>t11</th>\n",
       "      <th>t12</th>\n",
       "      <th>t13</th>\n",
       "      <th>t14</th>\n",
       "      <th>t15</th>\n",
       "      <th>t16</th>\n",
       "      <th>t17</th>\n",
       "      <th>t18</th>\n",
       "      <th>t19</th>\n",
       "      <th>t20</th>\n",
       "      <th>t21</th>\n",
       "      <th>t22</th>\n",
       "      <th>t23</th>\n",
       "      <th>t24</th>\n",
       "      <th>t25</th>\n",
       "      <th>t26</th>\n",
       "      <th>t27</th>\n",
       "      <th>t28</th>\n",
       "      <th>t29</th>\n",
       "      <th>t30</th>\n",
       "      <th>t31</th>\n",
       "      <th>t32</th>\n",
       "      <th>t33</th>\n",
       "      <th>t34</th>\n",
       "      <th>t35</th>\n",
       "      <th>t36</th>\n",
       "      <th>t37</th>\n",
       "      <th>t38</th>\n",
       "      <th>t39</th>\n",
       "      <th>t40</th>\n",
       "    </tr>\n",
       "  </thead>\n",
       "  <tbody>\n",
       "    <tr>\n",
       "      <th>0</th>\n",
       "      <td>3351</td>\n",
       "      <td>354</td>\n",
       "      <td>19</td>\n",
       "      <td>450</td>\n",
       "      <td>95</td>\n",
       "      <td>1064</td>\n",
       "      <td>185</td>\n",
       "      <td>203</td>\n",
       "      <td>153</td>\n",
       "      <td>711</td>\n",
       "      <td>1</td>\n",
       "      <td>0</td>\n",
       "      <td>0</td>\n",
       "      <td>0</td>\n",
       "      <td>0</td>\n",
       "      <td>0</td>\n",
       "      <td>0</td>\n",
       "      <td>0</td>\n",
       "      <td>0</td>\n",
       "      <td>0</td>\n",
       "      <td>0</td>\n",
       "      <td>0</td>\n",
       "      <td>0</td>\n",
       "      <td>0</td>\n",
       "      <td>0</td>\n",
       "      <td>0</td>\n",
       "      <td>0</td>\n",
       "      <td>0</td>\n",
       "      <td>0</td>\n",
       "      <td>0</td>\n",
       "      <td>0</td>\n",
       "      <td>0</td>\n",
       "      <td>0</td>\n",
       "      <td>0</td>\n",
       "      <td>0</td>\n",
       "      <td>0</td>\n",
       "      <td>0</td>\n",
       "      <td>0</td>\n",
       "      <td>0</td>\n",
       "      <td>0</td>\n",
       "      <td>0</td>\n",
       "      <td>0</td>\n",
       "      <td>0</td>\n",
       "      <td>0</td>\n",
       "      <td>0</td>\n",
       "      <td>0</td>\n",
       "      <td>0</td>\n",
       "      <td>0</td>\n",
       "      <td>0</td>\n",
       "      <td>0</td>\n",
       "      <td>0</td>\n",
       "      <td>0</td>\n",
       "      <td>1</td>\n",
       "      <td>0</td>\n",
       "    </tr>\n",
       "    <tr>\n",
       "      <th>1</th>\n",
       "      <td>2995</td>\n",
       "      <td>84</td>\n",
       "      <td>7</td>\n",
       "      <td>481</td>\n",
       "      <td>30</td>\n",
       "      <td>5154</td>\n",
       "      <td>231</td>\n",
       "      <td>227</td>\n",
       "      <td>129</td>\n",
       "      <td>5488</td>\n",
       "      <td>1</td>\n",
       "      <td>0</td>\n",
       "      <td>0</td>\n",
       "      <td>0</td>\n",
       "      <td>0</td>\n",
       "      <td>0</td>\n",
       "      <td>0</td>\n",
       "      <td>0</td>\n",
       "      <td>0</td>\n",
       "      <td>0</td>\n",
       "      <td>0</td>\n",
       "      <td>0</td>\n",
       "      <td>0</td>\n",
       "      <td>0</td>\n",
       "      <td>0</td>\n",
       "      <td>0</td>\n",
       "      <td>0</td>\n",
       "      <td>0</td>\n",
       "      <td>0</td>\n",
       "      <td>0</td>\n",
       "      <td>0</td>\n",
       "      <td>0</td>\n",
       "      <td>1</td>\n",
       "      <td>0</td>\n",
       "      <td>0</td>\n",
       "      <td>0</td>\n",
       "      <td>0</td>\n",
       "      <td>0</td>\n",
       "      <td>0</td>\n",
       "      <td>0</td>\n",
       "      <td>0</td>\n",
       "      <td>0</td>\n",
       "      <td>0</td>\n",
       "      <td>0</td>\n",
       "      <td>0</td>\n",
       "      <td>0</td>\n",
       "      <td>0</td>\n",
       "      <td>0</td>\n",
       "      <td>0</td>\n",
       "      <td>0</td>\n",
       "      <td>0</td>\n",
       "      <td>0</td>\n",
       "      <td>0</td>\n",
       "      <td>0</td>\n",
       "    </tr>\n",
       "    <tr>\n",
       "      <th>2</th>\n",
       "      <td>2884</td>\n",
       "      <td>72</td>\n",
       "      <td>25</td>\n",
       "      <td>210</td>\n",
       "      <td>-45</td>\n",
       "      <td>466</td>\n",
       "      <td>239</td>\n",
       "      <td>183</td>\n",
       "      <td>60</td>\n",
       "      <td>2123</td>\n",
       "      <td>1</td>\n",
       "      <td>0</td>\n",
       "      <td>0</td>\n",
       "      <td>0</td>\n",
       "      <td>0</td>\n",
       "      <td>0</td>\n",
       "      <td>0</td>\n",
       "      <td>0</td>\n",
       "      <td>0</td>\n",
       "      <td>0</td>\n",
       "      <td>0</td>\n",
       "      <td>0</td>\n",
       "      <td>0</td>\n",
       "      <td>0</td>\n",
       "      <td>0</td>\n",
       "      <td>0</td>\n",
       "      <td>0</td>\n",
       "      <td>0</td>\n",
       "      <td>0</td>\n",
       "      <td>0</td>\n",
       "      <td>0</td>\n",
       "      <td>0</td>\n",
       "      <td>0</td>\n",
       "      <td>0</td>\n",
       "      <td>0</td>\n",
       "      <td>0</td>\n",
       "      <td>0</td>\n",
       "      <td>0</td>\n",
       "      <td>0</td>\n",
       "      <td>0</td>\n",
       "      <td>0</td>\n",
       "      <td>0</td>\n",
       "      <td>0</td>\n",
       "      <td>1</td>\n",
       "      <td>0</td>\n",
       "      <td>0</td>\n",
       "      <td>0</td>\n",
       "      <td>0</td>\n",
       "      <td>0</td>\n",
       "      <td>0</td>\n",
       "      <td>0</td>\n",
       "      <td>0</td>\n",
       "      <td>0</td>\n",
       "      <td>0</td>\n",
       "    </tr>\n",
       "    <tr>\n",
       "      <th>3</th>\n",
       "      <td>3139</td>\n",
       "      <td>76</td>\n",
       "      <td>11</td>\n",
       "      <td>301</td>\n",
       "      <td>58</td>\n",
       "      <td>1368</td>\n",
       "      <td>234</td>\n",
       "      <td>220</td>\n",
       "      <td>117</td>\n",
       "      <td>3282</td>\n",
       "      <td>0</td>\n",
       "      <td>0</td>\n",
       "      <td>1</td>\n",
       "      <td>0</td>\n",
       "      <td>0</td>\n",
       "      <td>0</td>\n",
       "      <td>0</td>\n",
       "      <td>0</td>\n",
       "      <td>0</td>\n",
       "      <td>0</td>\n",
       "      <td>0</td>\n",
       "      <td>0</td>\n",
       "      <td>0</td>\n",
       "      <td>0</td>\n",
       "      <td>0</td>\n",
       "      <td>0</td>\n",
       "      <td>0</td>\n",
       "      <td>0</td>\n",
       "      <td>0</td>\n",
       "      <td>0</td>\n",
       "      <td>0</td>\n",
       "      <td>0</td>\n",
       "      <td>0</td>\n",
       "      <td>0</td>\n",
       "      <td>0</td>\n",
       "      <td>0</td>\n",
       "      <td>0</td>\n",
       "      <td>0</td>\n",
       "      <td>0</td>\n",
       "      <td>0</td>\n",
       "      <td>0</td>\n",
       "      <td>0</td>\n",
       "      <td>0</td>\n",
       "      <td>0</td>\n",
       "      <td>0</td>\n",
       "      <td>0</td>\n",
       "      <td>1</td>\n",
       "      <td>0</td>\n",
       "      <td>0</td>\n",
       "      <td>0</td>\n",
       "      <td>0</td>\n",
       "      <td>0</td>\n",
       "      <td>0</td>\n",
       "      <td>0</td>\n",
       "    </tr>\n",
       "    <tr>\n",
       "      <th>4</th>\n",
       "      <td>3018</td>\n",
       "      <td>312</td>\n",
       "      <td>17</td>\n",
       "      <td>30</td>\n",
       "      <td>10</td>\n",
       "      <td>1719</td>\n",
       "      <td>172</td>\n",
       "      <td>225</td>\n",
       "      <td>193</td>\n",
       "      <td>1961</td>\n",
       "      <td>1</td>\n",
       "      <td>0</td>\n",
       "      <td>0</td>\n",
       "      <td>0</td>\n",
       "      <td>0</td>\n",
       "      <td>0</td>\n",
       "      <td>0</td>\n",
       "      <td>0</td>\n",
       "      <td>0</td>\n",
       "      <td>0</td>\n",
       "      <td>0</td>\n",
       "      <td>0</td>\n",
       "      <td>0</td>\n",
       "      <td>0</td>\n",
       "      <td>0</td>\n",
       "      <td>0</td>\n",
       "      <td>0</td>\n",
       "      <td>0</td>\n",
       "      <td>0</td>\n",
       "      <td>0</td>\n",
       "      <td>0</td>\n",
       "      <td>0</td>\n",
       "      <td>0</td>\n",
       "      <td>0</td>\n",
       "      <td>0</td>\n",
       "      <td>0</td>\n",
       "      <td>0</td>\n",
       "      <td>0</td>\n",
       "      <td>0</td>\n",
       "      <td>0</td>\n",
       "      <td>0</td>\n",
       "      <td>0</td>\n",
       "      <td>1</td>\n",
       "      <td>0</td>\n",
       "      <td>0</td>\n",
       "      <td>0</td>\n",
       "      <td>0</td>\n",
       "      <td>0</td>\n",
       "      <td>0</td>\n",
       "      <td>0</td>\n",
       "      <td>0</td>\n",
       "      <td>0</td>\n",
       "      <td>0</td>\n",
       "      <td>0</td>\n",
       "    </tr>\n",
       "  </tbody>\n",
       "</table>\n",
       "</div>"
      ],
      "text/plain": [
       "   altitud  azimut  inclinacion  DH_agua  DV_agua  DH_camino  sombra_9am  \\\n",
       "0     3351     354           19      450       95       1064         185   \n",
       "1     2995      84            7      481       30       5154         231   \n",
       "2     2884      72           25      210      -45        466         239   \n",
       "3     3139      76           11      301       58       1368         234   \n",
       "4     3018     312           17       30       10       1719         172   \n",
       "\n",
       "   sombra_12pm  sombra_3pm  DH_fuego  reserva_1  reserva_2  reserva_3  \\\n",
       "0          203         153       711          1          0          0   \n",
       "1          227         129      5488          1          0          0   \n",
       "2          183          60      2123          1          0          0   \n",
       "3          220         117      3282          0          0          1   \n",
       "4          225         193      1961          1          0          0   \n",
       "\n",
       "   Reserva_4  t1  t2  t3  t4  t5  t6  t7  t8  t9  t10  t11  t12  t13  t14  \\\n",
       "0          0   0   0   0   0   0   0   0   0   0    0    0    0    0    0   \n",
       "1          0   0   0   0   0   0   0   0   0   0    0    0    0    0    0   \n",
       "2          0   0   0   0   0   0   0   0   0   0    0    0    0    0    0   \n",
       "3          0   0   0   0   0   0   0   0   0   0    0    0    0    0    0   \n",
       "4          0   0   0   0   0   0   0   0   0   0    0    0    0    0    0   \n",
       "\n",
       "   t15  t16  t17  t18  t19  t20  t21  t22  t23  t24  t25  t26  t27  t28  t29  \\\n",
       "0    0    0    0    0    0    0    0    0    0    0    0    0    0    0    0   \n",
       "1    0    0    0    0    1    0    0    0    0    0    0    0    0    0    0   \n",
       "2    0    0    0    0    0    0    0    0    0    0    0    0    0    0    0   \n",
       "3    0    0    0    0    0    0    0    0    0    0    0    0    0    0    0   \n",
       "4    0    0    0    0    0    0    0    0    0    0    0    0    0    0    1   \n",
       "\n",
       "   t30  t31  t32  t33  t34  t35  t36  t37  t38  t39  t40  \n",
       "0    0    0    0    0    0    0    0    0    0    1    0  \n",
       "1    0    0    0    0    0    0    0    0    0    0    0  \n",
       "2    1    0    0    0    0    0    0    0    0    0    0  \n",
       "3    0    0    0    1    0    0    0    0    0    0    0  \n",
       "4    0    0    0    0    0    0    0    0    0    0    0  "
      ]
     },
     "execution_count": 5,
     "metadata": {},
     "output_type": "execute_result"
    }
   ],
   "source": [
    "pd.set_option(\"display.max_columns\", None)\n",
    "X_all_set.head()"
   ]
  },
  {
   "cell_type": "code",
   "execution_count": 6,
   "metadata": {
    "colab": {
     "base_uri": "https://localhost:8080/",
     "height": 204
    },
    "id": "IOIU1UlpsZZR",
    "outputId": "5ae43a19-e2c5-4d40-8aec-0706018f8e47"
   },
   "outputs": [
    {
     "data": {
      "text/html": [
       "<div>\n",
       "<style scoped>\n",
       "    .dataframe tbody tr th:only-of-type {\n",
       "        vertical-align: middle;\n",
       "    }\n",
       "\n",
       "    .dataframe tbody tr th {\n",
       "        vertical-align: top;\n",
       "    }\n",
       "\n",
       "    .dataframe thead th {\n",
       "        text-align: right;\n",
       "    }\n",
       "</style>\n",
       "<table border=\"1\" class=\"dataframe\">\n",
       "  <thead>\n",
       "    <tr style=\"text-align: right;\">\n",
       "      <th></th>\n",
       "      <th>tipo_bosque</th>\n",
       "    </tr>\n",
       "  </thead>\n",
       "  <tbody>\n",
       "    <tr>\n",
       "      <th>0</th>\n",
       "      <td>1</td>\n",
       "    </tr>\n",
       "    <tr>\n",
       "      <th>1</th>\n",
       "      <td>2</td>\n",
       "    </tr>\n",
       "    <tr>\n",
       "      <th>2</th>\n",
       "      <td>2</td>\n",
       "    </tr>\n",
       "    <tr>\n",
       "      <th>3</th>\n",
       "      <td>1</td>\n",
       "    </tr>\n",
       "    <tr>\n",
       "      <th>4</th>\n",
       "      <td>1</td>\n",
       "    </tr>\n",
       "  </tbody>\n",
       "</table>\n",
       "</div>"
      ],
      "text/plain": [
       "   tipo_bosque\n",
       "0            1\n",
       "1            2\n",
       "2            2\n",
       "3            1\n",
       "4            1"
      ]
     },
     "execution_count": 6,
     "metadata": {},
     "output_type": "execute_result"
    }
   ],
   "source": [
    "Y_all_set.head()"
   ]
  },
  {
   "cell_type": "code",
   "execution_count": 7,
   "metadata": {
    "colab": {
     "base_uri": "https://localhost:8080/"
    },
    "id": "PeAr9cLyrtwt",
    "outputId": "234a0032-9aca-45e6-890a-0c193ce469ea"
   },
   "outputs": [
    {
     "name": "stdout",
     "output_type": "stream",
     "text": [
      "altitud   azimut   inclinacion   DH_agua   DV_agua   DH_camino   sombra_9am   sombra_12pm   sombra_3pm   DH_fuego   reserva_1   reserva_2   reserva_3   Reserva_4   t1   t2   t3   t4   t5   t6   t7   t8   t9   t10   t11   t12   t13   t14   t15   t16   t17   t18   t19   t20   t21   t22   t23   t24   t25   t26   t27   t28   t29   t30   t31   t32   t33   t34   t35   t36   t37   t38   t39   t40   "
     ]
    }
   ],
   "source": [
    "names = X_all_set.columns\n",
    "for i in names:\n",
    "  print(i, end='   ')"
   ]
  },
  {
   "cell_type": "code",
   "execution_count": 8,
   "metadata": {
    "colab": {
     "base_uri": "https://localhost:8080/"
    },
    "id": "X6cZYtmQaqIF",
    "outputId": "4bb24bec-bd30-477d-e320-da653fd5ab7c"
   },
   "outputs": [
    {
     "data": {
      "text/plain": [
       "tipo_bosque\n",
       "2              56660\n",
       "1              42368\n",
       "3               7151\n",
       "7               4102\n",
       "6               3473\n",
       "5               1899\n",
       "4                549\n",
       "dtype: int64"
      ]
     },
     "execution_count": 8,
     "metadata": {},
     "output_type": "execute_result"
    }
   ],
   "source": [
    "Y_all_set.value_counts()"
   ]
  },
  {
   "cell_type": "markdown",
   "metadata": {
    "id": "3Z5wmHtL00dV"
   },
   "source": [
    "# -[3]. Split X_all_set and y_all_set into TRAIN and TEST in a single Stratified split"
   ]
  },
  {
   "cell_type": "markdown",
   "metadata": {
    "id": "tTaqV3Ad5IuN"
   },
   "source": [
    "### Parameters\n",
    "\n",
    "X is the dataframe with examples (rows) and attributes (columns)\n",
    "\n",
    "Y is the dataframe with labels\n",
    "\n",
    "test_size is the percentage of X separated; default is 0.2\n",
    "\n",
    "random_state is a seed for pseudorandom generation (0 to get randomness)\n",
    "\n",
    "### Return\n",
    "\n",
    "X_train, Y_train = dataframes of (1-test_size)% of the X and Y\n",
    "\n",
    "X_test, Y_test = dataframes of test_size% of the X and Y"
   ]
  },
  {
   "cell_type": "code",
   "execution_count": 9,
   "metadata": {
    "id": "PSN4XGbty3N-"
   },
   "outputs": [],
   "source": [
    "def single_stratified_split(X,Y,test_size=.2, random_state=0):\n",
    "    from sklearn.model_selection import StratifiedShuffleSplit\n",
    "    if random_state != 0:\n",
    "      splitter = StratifiedShuffleSplit(n_splits=1, test_size=test_size, random_state=random_state)\n",
    "    else:\n",
    "      splitter = StratifiedShuffleSplit(n_splits=1, test_size=test_size)\n",
    "    split_ix = splitter.split(X,Y)\n",
    "    for train_ix, test_ix in split_ix:\n",
    "        X_train = X.loc[train_ix].reset_index(drop=True)\n",
    "        Y_train = Y.loc[train_ix].reset_index(drop=True)\n",
    "        X_test  = X.loc[test_ix].reset_index(drop=True)\n",
    "        Y_test  = Y.loc[test_ix].reset_index(drop=True)\n",
    "    return X_train, Y_train, X_test, Y_test"
   ]
  },
  {
   "cell_type": "markdown",
   "metadata": {
    "id": "joNPMyuA5f6h"
   },
   "source": [
    "### Spliting the dataset"
   ]
  },
  {
   "cell_type": "code",
   "execution_count": 10,
   "metadata": {
    "id": "BuQ1WffZlkZS"
   },
   "outputs": [],
   "source": [
    "valid_size = 0.2\n",
    "X_train, Y_train, X_valid, Y_valid = \\\n",
    "   single_stratified_split( X_all_set, Y_all_set, test_size=valid_size, random_state=seed)"
   ]
  },
  {
   "cell_type": "markdown",
   "metadata": {
    "id": "KF0NnW5R1Eww"
   },
   "source": [
    "# -[4]. Fit a scaler to [0,1]"
   ]
  },
  {
   "cell_type": "code",
   "execution_count": 11,
   "metadata": {
    "colab": {
     "base_uri": "https://localhost:8080/",
     "height": 224
    },
    "id": "bmv6U4JF3Vj_",
    "outputId": "98a15b53-223d-424a-be23-157d6b2572ea"
   },
   "outputs": [
    {
     "data": {
      "text/html": [
       "<div>\n",
       "<style scoped>\n",
       "    .dataframe tbody tr th:only-of-type {\n",
       "        vertical-align: middle;\n",
       "    }\n",
       "\n",
       "    .dataframe tbody tr th {\n",
       "        vertical-align: top;\n",
       "    }\n",
       "\n",
       "    .dataframe thead th {\n",
       "        text-align: right;\n",
       "    }\n",
       "</style>\n",
       "<table border=\"1\" class=\"dataframe\">\n",
       "  <thead>\n",
       "    <tr style=\"text-align: right;\">\n",
       "      <th></th>\n",
       "      <th>altitud</th>\n",
       "      <th>azimut</th>\n",
       "      <th>inclinacion</th>\n",
       "      <th>DH_agua</th>\n",
       "      <th>DV_agua</th>\n",
       "      <th>DH_camino</th>\n",
       "      <th>sombra_9am</th>\n",
       "      <th>sombra_12pm</th>\n",
       "      <th>sombra_3pm</th>\n",
       "      <th>DH_fuego</th>\n",
       "      <th>reserva_1</th>\n",
       "      <th>reserva_2</th>\n",
       "      <th>reserva_3</th>\n",
       "      <th>Reserva_4</th>\n",
       "      <th>t1</th>\n",
       "      <th>t2</th>\n",
       "      <th>t3</th>\n",
       "      <th>t4</th>\n",
       "      <th>t5</th>\n",
       "      <th>t6</th>\n",
       "      <th>t7</th>\n",
       "      <th>t8</th>\n",
       "      <th>t9</th>\n",
       "      <th>t10</th>\n",
       "      <th>t11</th>\n",
       "      <th>t12</th>\n",
       "      <th>t13</th>\n",
       "      <th>t14</th>\n",
       "      <th>t15</th>\n",
       "      <th>t16</th>\n",
       "      <th>t17</th>\n",
       "      <th>t18</th>\n",
       "      <th>t19</th>\n",
       "      <th>t20</th>\n",
       "      <th>t21</th>\n",
       "      <th>t22</th>\n",
       "      <th>t23</th>\n",
       "      <th>t24</th>\n",
       "      <th>t25</th>\n",
       "      <th>t26</th>\n",
       "      <th>t27</th>\n",
       "      <th>t28</th>\n",
       "      <th>t29</th>\n",
       "      <th>t30</th>\n",
       "      <th>t31</th>\n",
       "      <th>t32</th>\n",
       "      <th>t33</th>\n",
       "      <th>t34</th>\n",
       "      <th>t35</th>\n",
       "      <th>t36</th>\n",
       "      <th>t37</th>\n",
       "      <th>t38</th>\n",
       "      <th>t39</th>\n",
       "      <th>t40</th>\n",
       "    </tr>\n",
       "  </thead>\n",
       "  <tbody>\n",
       "    <tr>\n",
       "      <th>0</th>\n",
       "      <td>3110</td>\n",
       "      <td>126</td>\n",
       "      <td>17</td>\n",
       "      <td>1222</td>\n",
       "      <td>208</td>\n",
       "      <td>3120</td>\n",
       "      <td>246</td>\n",
       "      <td>226</td>\n",
       "      <td>102</td>\n",
       "      <td>1436</td>\n",
       "      <td>0</td>\n",
       "      <td>0</td>\n",
       "      <td>1</td>\n",
       "      <td>0</td>\n",
       "      <td>0</td>\n",
       "      <td>0</td>\n",
       "      <td>0</td>\n",
       "      <td>0</td>\n",
       "      <td>0</td>\n",
       "      <td>0</td>\n",
       "      <td>0</td>\n",
       "      <td>0</td>\n",
       "      <td>0</td>\n",
       "      <td>0</td>\n",
       "      <td>0</td>\n",
       "      <td>0</td>\n",
       "      <td>0</td>\n",
       "      <td>0</td>\n",
       "      <td>0</td>\n",
       "      <td>0</td>\n",
       "      <td>0</td>\n",
       "      <td>0</td>\n",
       "      <td>0</td>\n",
       "      <td>0</td>\n",
       "      <td>0</td>\n",
       "      <td>0</td>\n",
       "      <td>0</td>\n",
       "      <td>0</td>\n",
       "      <td>0</td>\n",
       "      <td>0</td>\n",
       "      <td>0</td>\n",
       "      <td>0</td>\n",
       "      <td>0</td>\n",
       "      <td>0</td>\n",
       "      <td>0</td>\n",
       "      <td>0</td>\n",
       "      <td>1</td>\n",
       "      <td>0</td>\n",
       "      <td>0</td>\n",
       "      <td>0</td>\n",
       "      <td>0</td>\n",
       "      <td>0</td>\n",
       "      <td>0</td>\n",
       "      <td>0</td>\n",
       "    </tr>\n",
       "    <tr>\n",
       "      <th>1</th>\n",
       "      <td>3297</td>\n",
       "      <td>117</td>\n",
       "      <td>19</td>\n",
       "      <td>361</td>\n",
       "      <td>87</td>\n",
       "      <td>400</td>\n",
       "      <td>249</td>\n",
       "      <td>218</td>\n",
       "      <td>88</td>\n",
       "      <td>577</td>\n",
       "      <td>0</td>\n",
       "      <td>1</td>\n",
       "      <td>0</td>\n",
       "      <td>0</td>\n",
       "      <td>0</td>\n",
       "      <td>0</td>\n",
       "      <td>0</td>\n",
       "      <td>0</td>\n",
       "      <td>0</td>\n",
       "      <td>0</td>\n",
       "      <td>0</td>\n",
       "      <td>0</td>\n",
       "      <td>0</td>\n",
       "      <td>0</td>\n",
       "      <td>0</td>\n",
       "      <td>0</td>\n",
       "      <td>0</td>\n",
       "      <td>0</td>\n",
       "      <td>0</td>\n",
       "      <td>0</td>\n",
       "      <td>0</td>\n",
       "      <td>0</td>\n",
       "      <td>0</td>\n",
       "      <td>0</td>\n",
       "      <td>0</td>\n",
       "      <td>0</td>\n",
       "      <td>0</td>\n",
       "      <td>1</td>\n",
       "      <td>0</td>\n",
       "      <td>0</td>\n",
       "      <td>0</td>\n",
       "      <td>0</td>\n",
       "      <td>0</td>\n",
       "      <td>0</td>\n",
       "      <td>0</td>\n",
       "      <td>0</td>\n",
       "      <td>0</td>\n",
       "      <td>0</td>\n",
       "      <td>0</td>\n",
       "      <td>0</td>\n",
       "      <td>0</td>\n",
       "      <td>0</td>\n",
       "      <td>0</td>\n",
       "      <td>0</td>\n",
       "    </tr>\n",
       "    <tr>\n",
       "      <th>2</th>\n",
       "      <td>2720</td>\n",
       "      <td>163</td>\n",
       "      <td>21</td>\n",
       "      <td>228</td>\n",
       "      <td>51</td>\n",
       "      <td>1907</td>\n",
       "      <td>234</td>\n",
       "      <td>241</td>\n",
       "      <td>127</td>\n",
       "      <td>2262</td>\n",
       "      <td>0</td>\n",
       "      <td>0</td>\n",
       "      <td>1</td>\n",
       "      <td>0</td>\n",
       "      <td>0</td>\n",
       "      <td>0</td>\n",
       "      <td>0</td>\n",
       "      <td>0</td>\n",
       "      <td>0</td>\n",
       "      <td>0</td>\n",
       "      <td>0</td>\n",
       "      <td>0</td>\n",
       "      <td>0</td>\n",
       "      <td>1</td>\n",
       "      <td>0</td>\n",
       "      <td>0</td>\n",
       "      <td>0</td>\n",
       "      <td>0</td>\n",
       "      <td>0</td>\n",
       "      <td>0</td>\n",
       "      <td>0</td>\n",
       "      <td>0</td>\n",
       "      <td>0</td>\n",
       "      <td>0</td>\n",
       "      <td>0</td>\n",
       "      <td>0</td>\n",
       "      <td>0</td>\n",
       "      <td>0</td>\n",
       "      <td>0</td>\n",
       "      <td>0</td>\n",
       "      <td>0</td>\n",
       "      <td>0</td>\n",
       "      <td>0</td>\n",
       "      <td>0</td>\n",
       "      <td>0</td>\n",
       "      <td>0</td>\n",
       "      <td>0</td>\n",
       "      <td>0</td>\n",
       "      <td>0</td>\n",
       "      <td>0</td>\n",
       "      <td>0</td>\n",
       "      <td>0</td>\n",
       "      <td>0</td>\n",
       "      <td>0</td>\n",
       "    </tr>\n",
       "    <tr>\n",
       "      <th>3</th>\n",
       "      <td>3011</td>\n",
       "      <td>220</td>\n",
       "      <td>15</td>\n",
       "      <td>731</td>\n",
       "      <td>115</td>\n",
       "      <td>5868</td>\n",
       "      <td>202</td>\n",
       "      <td>253</td>\n",
       "      <td>185</td>\n",
       "      <td>6467</td>\n",
       "      <td>1</td>\n",
       "      <td>0</td>\n",
       "      <td>0</td>\n",
       "      <td>0</td>\n",
       "      <td>0</td>\n",
       "      <td>0</td>\n",
       "      <td>0</td>\n",
       "      <td>0</td>\n",
       "      <td>0</td>\n",
       "      <td>0</td>\n",
       "      <td>0</td>\n",
       "      <td>0</td>\n",
       "      <td>0</td>\n",
       "      <td>0</td>\n",
       "      <td>0</td>\n",
       "      <td>1</td>\n",
       "      <td>0</td>\n",
       "      <td>0</td>\n",
       "      <td>0</td>\n",
       "      <td>0</td>\n",
       "      <td>0</td>\n",
       "      <td>0</td>\n",
       "      <td>0</td>\n",
       "      <td>0</td>\n",
       "      <td>0</td>\n",
       "      <td>0</td>\n",
       "      <td>0</td>\n",
       "      <td>0</td>\n",
       "      <td>0</td>\n",
       "      <td>0</td>\n",
       "      <td>0</td>\n",
       "      <td>0</td>\n",
       "      <td>0</td>\n",
       "      <td>0</td>\n",
       "      <td>0</td>\n",
       "      <td>0</td>\n",
       "      <td>0</td>\n",
       "      <td>0</td>\n",
       "      <td>0</td>\n",
       "      <td>0</td>\n",
       "      <td>0</td>\n",
       "      <td>0</td>\n",
       "      <td>0</td>\n",
       "      <td>0</td>\n",
       "    </tr>\n",
       "    <tr>\n",
       "      <th>4</th>\n",
       "      <td>2813</td>\n",
       "      <td>47</td>\n",
       "      <td>10</td>\n",
       "      <td>85</td>\n",
       "      <td>2</td>\n",
       "      <td>1298</td>\n",
       "      <td>224</td>\n",
       "      <td>218</td>\n",
       "      <td>128</td>\n",
       "      <td>2538</td>\n",
       "      <td>1</td>\n",
       "      <td>0</td>\n",
       "      <td>0</td>\n",
       "      <td>0</td>\n",
       "      <td>0</td>\n",
       "      <td>0</td>\n",
       "      <td>0</td>\n",
       "      <td>0</td>\n",
       "      <td>0</td>\n",
       "      <td>0</td>\n",
       "      <td>0</td>\n",
       "      <td>0</td>\n",
       "      <td>0</td>\n",
       "      <td>0</td>\n",
       "      <td>0</td>\n",
       "      <td>0</td>\n",
       "      <td>0</td>\n",
       "      <td>0</td>\n",
       "      <td>0</td>\n",
       "      <td>0</td>\n",
       "      <td>0</td>\n",
       "      <td>0</td>\n",
       "      <td>0</td>\n",
       "      <td>0</td>\n",
       "      <td>0</td>\n",
       "      <td>0</td>\n",
       "      <td>0</td>\n",
       "      <td>0</td>\n",
       "      <td>0</td>\n",
       "      <td>0</td>\n",
       "      <td>0</td>\n",
       "      <td>0</td>\n",
       "      <td>1</td>\n",
       "      <td>0</td>\n",
       "      <td>0</td>\n",
       "      <td>0</td>\n",
       "      <td>0</td>\n",
       "      <td>0</td>\n",
       "      <td>0</td>\n",
       "      <td>0</td>\n",
       "      <td>0</td>\n",
       "      <td>0</td>\n",
       "      <td>0</td>\n",
       "      <td>0</td>\n",
       "    </tr>\n",
       "  </tbody>\n",
       "</table>\n",
       "</div>"
      ],
      "text/plain": [
       "   altitud  azimut  inclinacion  DH_agua  DV_agua  DH_camino  sombra_9am  \\\n",
       "0     3110     126           17     1222      208       3120         246   \n",
       "1     3297     117           19      361       87        400         249   \n",
       "2     2720     163           21      228       51       1907         234   \n",
       "3     3011     220           15      731      115       5868         202   \n",
       "4     2813      47           10       85        2       1298         224   \n",
       "\n",
       "   sombra_12pm  sombra_3pm  DH_fuego  reserva_1  reserva_2  reserva_3  \\\n",
       "0          226         102      1436          0          0          1   \n",
       "1          218          88       577          0          1          0   \n",
       "2          241         127      2262          0          0          1   \n",
       "3          253         185      6467          1          0          0   \n",
       "4          218         128      2538          1          0          0   \n",
       "\n",
       "   Reserva_4  t1  t2  t3  t4  t5  t6  t7  t8  t9  t10  t11  t12  t13  t14  \\\n",
       "0          0   0   0   0   0   0   0   0   0   0    0    0    0    0    0   \n",
       "1          0   0   0   0   0   0   0   0   0   0    0    0    0    0    0   \n",
       "2          0   0   0   0   0   0   0   0   0   0    1    0    0    0    0   \n",
       "3          0   0   0   0   0   0   0   0   0   0    0    0    1    0    0   \n",
       "4          0   0   0   0   0   0   0   0   0   0    0    0    0    0    0   \n",
       "\n",
       "   t15  t16  t17  t18  t19  t20  t21  t22  t23  t24  t25  t26  t27  t28  t29  \\\n",
       "0    0    0    0    0    0    0    0    0    0    0    0    0    0    0    0   \n",
       "1    0    0    0    0    0    0    0    0    0    1    0    0    0    0    0   \n",
       "2    0    0    0    0    0    0    0    0    0    0    0    0    0    0    0   \n",
       "3    0    0    0    0    0    0    0    0    0    0    0    0    0    0    0   \n",
       "4    0    0    0    0    0    0    0    0    0    0    0    0    0    0    1   \n",
       "\n",
       "   t30  t31  t32  t33  t34  t35  t36  t37  t38  t39  t40  \n",
       "0    0    0    0    1    0    0    0    0    0    0    0  \n",
       "1    0    0    0    0    0    0    0    0    0    0    0  \n",
       "2    0    0    0    0    0    0    0    0    0    0    0  \n",
       "3    0    0    0    0    0    0    0    0    0    0    0  \n",
       "4    0    0    0    0    0    0    0    0    0    0    0  "
      ]
     },
     "execution_count": 11,
     "metadata": {},
     "output_type": "execute_result"
    }
   ],
   "source": [
    "X_train.head()"
   ]
  },
  {
   "cell_type": "code",
   "execution_count": 12,
   "metadata": {
    "colab": {
     "base_uri": "https://localhost:8080/"
    },
    "id": "tNSUiQHD3oyZ",
    "outputId": "157a7bcb-8cf9-45f3-d8d2-d5b37ecd1631"
   },
   "outputs": [
    {
     "name": "stdout",
     "output_type": "stream",
     "text": [
      "Features train set shape : (92961, 54)\n"
     ]
    }
   ],
   "source": [
    "print(\"Features train set shape : \" + str(X_train.shape))"
   ]
  },
  {
   "cell_type": "code",
   "execution_count": 13,
   "metadata": {
    "colab": {
     "base_uri": "https://localhost:8080/"
    },
    "id": "m7ZgoVUe3pFY",
    "outputId": "bca36666-df90-4229-eb5a-d29e51ec685f"
   },
   "outputs": [
    {
     "name": "stdout",
     "output_type": "stream",
     "text": [
      "3110\n",
      "3297\n",
      "2720\n",
      "3011\n",
      "2813\n",
      "2457\n",
      "3290\n",
      "3272\n",
      "2730\n",
      "2982\n"
     ]
    }
   ],
   "source": [
    "a = 0\n",
    "for i in X_train['altitud']:\n",
    "  print(i)\n",
    "  a += 1\n",
    "  if a >= 10:\n",
    "    break"
   ]
  },
  {
   "cell_type": "code",
   "execution_count": 14,
   "metadata": {
    "colab": {
     "base_uri": "https://localhost:8080/"
    },
    "id": "ZxcVgCMcMpse",
    "outputId": "a1230536-a5b3-427d-88fd-e617e2cb5146"
   },
   "outputs": [
    {
     "name": "stdout",
     "output_type": "stream",
     "text": [
      "Features train set shape (scaled) : (92961, 54)\n"
     ]
    }
   ],
   "source": [
    "from sklearn.preprocessing import MinMaxScaler\n",
    "\n",
    "scaler = MinMaxScaler()\n",
    "\n",
    "X_train_scale = scaler.fit_transform(X_train)\n",
    "print(\"Features train set shape (scaled) : \" + str(X_train_scale.shape))"
   ]
  },
  {
   "cell_type": "code",
   "execution_count": 15,
   "metadata": {
    "colab": {
     "base_uri": "https://localhost:8080/"
    },
    "id": "-M38rWpi68i5",
    "outputId": "208d3bfd-2661-4892-94e8-e56b3ff6306e"
   },
   "outputs": [
    {
     "name": "stdout",
     "output_type": "stream",
     "text": [
      "[[0.6235531  0.35       0.26984127 ... 0.         0.         0.        ]\n",
      " [0.71766482 0.325      0.3015873  ... 0.         0.         0.        ]\n",
      " [0.4272773  0.45277778 0.33333333 ... 0.         0.         0.        ]\n",
      " ...\n",
      " [0.51736286 0.91666667 0.26984127 ... 0.         0.         0.        ]\n",
      " [0.39607448 0.09444444 0.38095238 ... 0.         0.         0.        ]\n",
      " [0.50931052 0.98333333 0.22222222 ... 0.         0.         0.        ]]\n"
     ]
    }
   ],
   "source": [
    "print(X_train_scale)"
   ]
  },
  {
   "cell_type": "code",
   "execution_count": 16,
   "metadata": {
    "colab": {
     "base_uri": "https://localhost:8080/",
     "height": 298
    },
    "id": "24YZHpxA2LIP",
    "outputId": "ed887374-143c-4d13-a8af-48dd87efd620"
   },
   "outputs": [
    {
     "name": "stdout",
     "output_type": "stream",
     "text": [
      "Checking if the scaling as been well done\n"
     ]
    },
    {
     "data": {
      "image/png": "[encoded data removed]",
      "text/plain": [
       "<Figure size 432x288 with 4 Axes>"
      ]
     },
     "metadata": {
      "needs_background": "light"
     },
     "output_type": "display_data"
    }
   ],
   "source": [
    "# Verify scale is good\n",
    "\n",
    "fig, axes = plt.subplots(1,4)\n",
    "axes[0].scatter(X_train['altitud'], X_train['azimut'], X_train['inclinacion'], X_train['DH_agua'])\n",
    "axes[0].set_title(\"Original 1\")\n",
    "axes[1].scatter(X_train['DV_agua'], X_train['sombra_3pm'], X_train['Reserva_4'], X_train['reserva_2'])\n",
    "axes[1].set_title(\"Original 2\")\n",
    "axes[2].scatter(X_train_scale[:, 0], X_train_scale[:, 1], X_train_scale[:, 2], X_train_scale[:, 3])\n",
    "axes[2].set_title(\"MinMax 1\")\n",
    "axes[3].scatter(X_train_scale[:, 4], X_train_scale[:, 8], X_train_scale[:, 13], X_train_scale[:, 11])\n",
    "axes[3].set_title(\"MinMax 2\")\n",
    "print(\"Checking if the scaling as been well done\")\n",
    "plt.show()"
   ]
  },
  {
   "cell_type": "markdown",
   "metadata": {
    "id": "hmT1gp0H8rcn"
   },
   "source": [
    "# -[5]. Reduction with PCA (NOT USED)"
   ]
  },
  {
   "cell_type": "code",
   "execution_count": 17,
   "metadata": {
    "id": "XNMIJqeb8u2c"
   },
   "outputs": [],
   "source": [
    "# We did not use PCA for the final training, that's why X_Proy is never used\n",
    "\n",
    "from sklearn.decomposition import PCA\n",
    "\n",
    "n_components = 20\n",
    "# n_components = 0.5 \n",
    "if n_components <= X_train_scale.shape[1]:\n",
    "    pca = PCA(n_components = n_components)\n",
    "    pca.fit(X_train_scale)\n",
    "    X_proy = pca.transform(X_train_scale)\n",
    "else:\n",
    "    print(\"ERROR: the number of princial components has to be less or equal than data dimension !\")"
   ]
  },
  {
   "cell_type": "code",
   "execution_count": 18,
   "metadata": {
    "colab": {
     "base_uri": "https://localhost:8080/"
    },
    "id": "atqkjfAr-G9a",
    "outputId": "b4f686b0-9745-4576-ba79-5875eb12c197"
   },
   "outputs": [
    {
     "name": "stdout",
     "output_type": "stream",
     "text": [
      "[[-7.95257612e-01 -3.75044488e-01 -5.62719068e-02 ...  4.40579337e-01\n",
      "   2.13307435e-02  1.00525771e-01]\n",
      " [-1.53237162e-01  5.22386973e-01 -6.61881133e-02 ... -4.08839068e-02\n",
      "   1.22041758e-01 -2.00461982e-01]\n",
      " [-7.32382580e-01  1.38383104e-01  2.65991282e-01 ... -2.44320041e-02\n",
      "   1.01900153e-02  4.51843672e-02]\n",
      " ...\n",
      " [-7.37422780e-01 -1.02532670e-01  1.61342494e-01 ... -1.20874302e-01\n",
      "   5.36055986e-03 -6.33662818e-02]\n",
      " [-7.43694904e-01  1.59598178e-01  1.89543057e-01 ... -2.35413389e-02\n",
      "  -9.60233345e-04  8.30914412e-02]\n",
      " [ 9.88410549e-01 -3.45585946e-01  5.03978857e-01 ... -1.53263277e-01\n",
      "  -1.12929649e-01  2.24561483e-01]]\n"
     ]
    }
   ],
   "source": [
    "print(X_proy)"
   ]
  },
  {
   "cell_type": "code",
   "execution_count": 19,
   "metadata": {
    "colab": {
     "base_uri": "https://localhost:8080/"
    },
    "id": "LrUpnR3p9fFB",
    "outputId": "1253d0a4-7a83-4fc3-e551-7da8c1f77a83"
   },
   "outputs": [
    {
     "name": "stdout",
     "output_type": "stream",
     "text": [
      "\n",
      " First 20 principal components\n",
      "[[ 0.01097541 -0.16538424 -0.1510521  ...  0.04797026  0.00285353\n",
      "  -0.01377799]\n",
      " [-0.05891619  0.11597844  0.32331022 ...  0.00942281 -0.01967395\n",
      "   0.06924581]\n",
      " [-0.03191866  0.04798268  0.10618735 ... -0.05484683  0.12161263\n",
      "   0.12777264]\n",
      " ...\n",
      " [ 0.0007469   0.00766101 -0.03387506 ... -0.04571486 -0.05902985\n",
      "   0.20880549]\n",
      " [-0.00072605  0.00170049 -0.02567147 ... -0.17546751 -0.0032014\n",
      "  -0.17341039]\n",
      " [ 0.00210796  0.01024018 -0.01765759 ...  0.18206912 -0.01648289\n",
      "   0.13838477]]\n",
      "\n",
      " First 20 singular values \n",
      "[223.90636649 118.28367839 107.00718875 102.68162365  91.28530512\n",
      "  89.37433766  82.83763584  75.69390856  71.10471772  68.5095057\n",
      "  61.81681387  61.52981785  56.58161741  55.52913926  52.36493949\n",
      "  50.41732835  48.80434608  47.51995408  45.1914401   44.22163255]\n",
      "\n",
      " Explained Variance Ratio\n",
      "[0.29891036 0.08341761 0.06827064 0.06286277 0.04968323 0.04762486\n",
      " 0.0409132  0.03416095 0.03014428 0.027984   0.02278355 0.02257248\n",
      " 0.01908793 0.01838442 0.01634893 0.01515541 0.0142012  0.01346357\n",
      " 0.01217644 0.01165944]\n",
      "\n",
      " Accumulated Explained Variance Ratio\n",
      "[0.29891036 0.38232796 0.4505986  0.51346138 0.56314461 0.61076947\n",
      " 0.65168267 0.68584362 0.7159879  0.7439719  0.76675545 0.78932793\n",
      " 0.80841586 0.82680028 0.84314921 0.85830462 0.87250582 0.88596939\n",
      " 0.89814583 0.90980527]\n"
     ]
    }
   ],
   "source": [
    "num_of_pc = len(pca.singular_values_)\n",
    "\n",
    "strTitle = '\\n First %d principal components' %(num_of_pc)\n",
    "print(strTitle)\n",
    "print(pca.components_.T)\n",
    "strTitle = '\\n First %d singular values ' %(num_of_pc)\n",
    "print(strTitle)\n",
    "print(pca.singular_values_.T)\n",
    "strTitle = '\\n Explained Variance Ratio'\n",
    "print(strTitle)\n",
    "print(pca.explained_variance_ratio_.T)\n",
    "strTitle = '\\n Accumulated Explained Variance Ratio'\n",
    "print(strTitle)\n",
    "print(np.cumsum(pca.explained_variance_ratio_.T))"
   ]
  },
  {
   "cell_type": "markdown",
   "metadata": {
    "id": "ksCx9gBo_i_o"
   },
   "source": [
    "# -[6]. Learning with GradientBoosting ensemble"
   ]
  },
  {
   "cell_type": "markdown",
   "metadata": {
    "id": "Gu_QJ4-EAwCG"
   },
   "source": [
    "### Taking 10-20 min with google colaboratory"
   ]
  },
  {
   "cell_type": "code",
   "execution_count": 20,
   "metadata": {
    "colab": {
     "base_uri": "https://localhost:8080/"
    },
    "id": "6ZY-Qkx1_lK_",
    "outputId": "af79dcc5-cb85-4fcb-9ab5-e8cc5eeeee79"
   },
   "outputs": [
    {
     "name": "stderr",
     "output_type": "stream",
     "text": [
      "/home/rluis/.local/lib/python3.9/site-packages/sklearn/ensemble/_gb.py:494: DataConversionWarning: A column-vector y was passed when a 1d array was expected. Please change the shape of y to (n_samples, ), for example using ravel().\n",
      "  y = column_or_1d(y, warn=True)\n"
     ]
    },
    {
     "data": {
      "text/plain": [
       "GradientBoostingClassifier(learning_rate=0.2, max_depth=20)"
      ]
     },
     "execution_count": 20,
     "metadata": {},
     "output_type": "execute_result"
    }
   ],
   "source": [
    "from sklearn.ensemble import GradientBoostingClassifier\n",
    "\n",
    "max_depth = 20\n",
    "n_estimators = 100\n",
    "learning_rate= 0.2\n",
    "\n",
    "gb_clf = GradientBoostingClassifier(max_depth=max_depth,        \\\n",
    "                                    n_estimators=n_estimators,  \\\n",
    "                                    learning_rate=learning_rate)\n",
    "\n",
    "gb_clf.fit(X_train_scale, Y_train)\n",
    "# gb_clf.fit(X_proy, Y_train) if you want to use PCA"
   ]
  },
  {
   "cell_type": "markdown",
   "metadata": {
    "id": "J9xlqpeY_tam"
   },
   "source": [
    "# -[7]. Testing the model with test dataset"
   ]
  },
  {
   "cell_type": "code",
   "execution_count": 21,
   "metadata": {
    "colab": {
     "base_uri": "https://localhost:8080/"
    },
    "id": "178wmBJm_yti",
    "outputId": "638083ee-9cb3-4ea8-9255-5e1785ad3974"
   },
   "outputs": [
    {
     "name": "stdout",
     "output_type": "stream",
     "text": [
      "accuracy =  0.9354158599027581\n",
      "\n",
      "[[ 7874   558     2     0     0     0    40]\n",
      " [  356 10893    27     0    26    26     4]\n",
      " [    0    54  1311    18     1    46     0]\n",
      " [    0     0    23    75     0    12     0]\n",
      " [    3   105     3     0   265     4     0]\n",
      " [    0    45    68     8     1   573     0]\n",
      " [   65     6     0     0     0     0   749]]\n",
      "\n",
      "              precision    recall  f1-score   support\n",
      "\n",
      "           1       0.95      0.93      0.94      8474\n",
      "           2       0.93      0.96      0.95     11332\n",
      "           3       0.91      0.92      0.92      1430\n",
      "           4       0.74      0.68      0.71       110\n",
      "           5       0.90      0.70      0.79       380\n",
      "           6       0.87      0.82      0.85       695\n",
      "           7       0.94      0.91      0.93       820\n",
      "\n",
      "    accuracy                           0.94     23241\n",
      "   macro avg       0.89      0.85      0.87     23241\n",
      "weighted avg       0.94      0.94      0.93     23241\n",
      "\n"
     ]
    }
   ],
   "source": [
    "from sklearn.metrics import accuracy_score\n",
    "from sklearn.metrics import confusion_matrix, classification_report\n",
    "\n",
    "# Y_pred = gb_clf.predict(gb_clf.fit(scaler.transform(X_valid))) if you want to use PCA\n",
    "Y_pred = gb_clf.predict(scaler.transform(X_valid))\n",
    "cm = confusion_matrix(Y_valid, Y_pred)\n",
    "cr = classification_report(Y_valid, Y_pred)\n",
    "\n",
    "accuracy = accuracy_score(Y_valid, Y_pred)\n",
    "\n",
    "print(\"accuracy = \",accuracy)\n",
    "print()\n",
    "print(cm)\n",
    "print()\n",
    "print(cr)"
   ]
  },
  {
   "cell_type": "markdown",
   "metadata": {
    "id": "4078p84W_Tao"
   },
   "source": [
    "# -[8]. Generating \"reto3_Ypred.csv\" with the model"
   ]
  },
  {
   "cell_type": "markdown",
   "metadata": {
    "id": "SXu4loft_yqB"
   },
   "source": [
    "### Loading the dataset to be predicted"
   ]
  },
  {
   "cell_type": "code",
   "execution_count": 22,
   "metadata": {
    "colab": {
     "base_uri": "https://localhost:8080/"
    },
    "id": "HQDFpbfV_hOe",
    "outputId": "7f8e787a-7190-42e7-f838-f19ef97678f7"
   },
   "outputs": [
    {
     "name": "stdout",
     "output_type": "stream",
     "text": [
      "Loaded !\n"
     ]
    }
   ],
   "source": [
    "X_test_set = pd.read_csv('../datasets/reto3_testX.csv')\n",
    "\n",
    "print(\"Loaded !\")"
   ]
  },
  {
   "cell_type": "markdown",
   "metadata": {
    "id": "kWOqbBSE_4am"
   },
   "source": [
    "### Scaling X_test_set dataset"
   ]
  },
  {
   "cell_type": "code",
   "execution_count": 23,
   "metadata": {
    "id": "uOpAzMpcAFEN"
   },
   "outputs": [],
   "source": [
    "X_test_set_scale = scaler.transform(X_test_set)\n",
    "#X_test_set_scale = gb_clf.fit(scaler.transform(X_test_set)) if you want to use PCA"
   ]
  },
  {
   "cell_type": "code",
   "execution_count": 24,
   "metadata": {
    "colab": {
     "base_uri": "https://localhost:8080/",
     "height": 298
    },
    "id": "HtH8jCSAATX0",
    "outputId": "47169305-406c-480a-babe-b6033624255d"
   },
   "outputs": [
    {
     "name": "stdout",
     "output_type": "stream",
     "text": [
      "Checking if the scaling as been well done\n"
     ]
    },
    {
     "data": {
      "image/png": "[encoded data removed]",
      "text/plain": [
       "<Figure size 432x288 with 4 Axes>"
      ]
     },
     "metadata": {
      "needs_background": "light"
     },
     "output_type": "display_data"
    }
   ],
   "source": [
    "# Verify scale is good\n",
    "\n",
    "fig, axes = plt.subplots(1,4)\n",
    "axes[0].scatter(X_test_set['altitud'], X_test_set['azimut'], X_test_set['inclinacion'], X_test_set['DH_agua'])\n",
    "axes[0].set_title(\"Original 1\")\n",
    "axes[1].scatter(X_test_set['DV_agua'], X_test_set['sombra_3pm'], X_test_set['Reserva_4'], X_test_set['reserva_2'])\n",
    "axes[1].set_title(\"Original 2\")\n",
    "axes[2].scatter(X_test_set_scale[:, 0], X_test_set_scale[:, 1], X_test_set_scale[:, 2], X_test_set_scale[:, 3])\n",
    "axes[2].set_title(\"MinMax 1\")\n",
    "axes[3].scatter(X_test_set_scale[:, 4], X_test_set_scale[:, 8], X_test_set_scale[:, 13], X_test_set_scale[:, 11])\n",
    "axes[3].set_title(\"MinMax 2\")\n",
    "print(\"Checking if the scaling as been well done\")\n",
    "plt.show()"
   ]
  },
  {
   "cell_type": "markdown",
   "metadata": {
    "id": "M9w1p2Ce_-78"
   },
   "source": [
    "### Predict the values"
   ]
  },
  {
   "cell_type": "code",
   "execution_count": 25,
   "metadata": {
    "id": "9X1qEKZRAtg-"
   },
   "outputs": [],
   "source": [
    "Y_pred_final = gb_clf.predict(X_test_set_scale)"
   ]
  },
  {
   "cell_type": "markdown",
   "metadata": {
    "id": "AnQwuh6WAAT1"
   },
   "source": [
    "### Generating the reto3_Ypred.csv file"
   ]
  },
  {
   "cell_type": "code",
   "execution_count": 26,
   "metadata": {
    "id": "JwMqi6uOBWgY"
   },
   "outputs": [],
   "source": [
    "Y_pred_final = np.array(Y_pred_final)\n",
    "# --- Save prediction in .csv file.\n",
    "np.savetxt('../predictions/reto3_Ypred.csv', Y_pred_final, fmt='%i', delimiter=',')"
   ]
  },
  {
   "cell_type": "markdown",
   "metadata": {
    "id": "FuQ7eR1ZEniK"
   },
   "source": [
    "# -[9]. Saving model with pickle"
   ]
  },
  {
   "cell_type": "code",
   "execution_count": 28,
   "metadata": {
    "id": "THxWklH4Ettl"
   },
   "outputs": [],
   "source": [
    "import pickle\n",
    "from datetime import datetime\n",
    "\n",
    "now = datetime.now()\n",
    "date = now.strftime(\"%d-%m-%H:%M:%S\")\n",
    "\n",
    "filename = \"../model/Model_\"\n",
    "path_file = filename + date + \".sav\"\n",
    "\n",
    "pickle.dump(gb_clf, open(path_file, \"wb\"))"
   ]
  }
 ],
 "metadata": {
  "colab": {
   "collapsed_sections": [
    "O7klDkaZwI0M"
   ],
   "name": "main.ipynb",
   "provenance": []
  },
  "kernelspec": {
   "display_name": "Python 3 (ipykernel)",
   "language": "python",
   "name": "python3"
  },
  "language_info": {
   "codemirror_mode": {
    "name": "ipython",
    "version": 3
   },
   "file_extension": ".py",
   "mimetype": "text/x-python",
   "name": "python",
   "nbconvert_exporter": "python",
   "pygments_lexer": "ipython3",
   "version": "3.9.2"
  }
 },
 "nbformat": 4,
 "nbformat_minor": 1
}
